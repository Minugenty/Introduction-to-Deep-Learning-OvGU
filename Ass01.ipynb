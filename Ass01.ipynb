{
  "cells": [
    {
      "cell_type": "markdown",
      "metadata": {
        "id": "aTIlPDt1eNRq"
      },
      "source": [
        "# Assignment 1 - Let the Tensors flow"
      ]
    },
    {
      "cell_type": "code",
      "execution_count": 2,
      "metadata": {
        "colab": {
          "base_uri": "https://localhost:8080/"
        },
        "id": "NpBAbcEKFKVt",
        "outputId": "d10aceb0-4adf-4935-e47e-0ddf703f67cc"
      },
      "outputs": [
        {
          "name": "stdout",
          "output_type": "stream",
          "text": [
            "Mounted at /content/drive\n"
          ]
        }
      ],
      "source": [
        "from google.colab import drive\n",
        "drive.mount('/content/drive')"
      ]
    },
    {
      "cell_type": "code",
      "execution_count": 3,
      "metadata": {
        "id": "aGFJ253-i5KP"
      },
      "outputs": [],
      "source": [
        "import os\n",
        "os.getcwd\n",
        "os.chdir(\"/content/drive/My Drive/Colab Notebooks\")\n"
      ]
    },
    {
      "cell_type": "code",
      "execution_count": 4,
      "metadata": {
        "id": "cOO6qi2cjYTI"
      },
      "outputs": [],
      "source": [
        "import tensorflow as tf\n",
        "import numpy as np\n",
        "import matplotlib.pyplot as plt\n",
        "from datasets import MNISTDataset"
      ]
    },
    {
      "cell_type": "code",
      "execution_count": 5,
      "metadata": {
        "colab": {
          "base_uri": "https://localhost:8080/",
          "height": 465
        },
        "id": "Jp1YQ0ERjhWA",
        "outputId": "e1cf4bca-c0bc-4274-aed4-b0eb776d138b"
      },
      "outputs": [
        {
          "name": "stdout",
          "output_type": "stream",
          "text": [
            "Downloading data from https://storage.googleapis.com/tensorflow/tf-keras-datasets/mnist.npz\n",
            "11490434/11490434 [==============================] - 0s 0us/step\n"
          ]
        },
        {
          "data": {
            "image/png": "[encoded data removed]",
            "text/plain": [
              "<Figure size 640x480 with 1 Axes>"
            ]
          },
          "metadata": {},
          "output_type": "display_data"
        }
      ],
      "source": [
        "(train_images, train_labels), (test_images, test_labels) = tf.keras.datasets.mnist.load_data()\n",
        "\n",
        "# we can look at any of the images and the corresponding labels\n",
        "# say, image no. 155\n",
        "plt.imshow(train_images[150], cmap=\"Greys_r\")\n",
        "plt.show()"
      ]
    },
    {
      "cell_type": "code",
      "execution_count": 6,
      "metadata": {
        "colab": {
          "base_uri": "https://localhost:8080/"
        },
        "id": "JZnJBB7XHv3M",
        "outputId": "f916b1c6-f4e2-465e-c80b-2df6ff29aa0f"
      },
      "outputs": [
        {
          "name": "stdout",
          "output_type": "stream",
          "text": [
            "4\n"
          ]
        }
      ],
      "source": [
        "print(train_labels[150])"
      ]
    },
    {
      "cell_type": "code",
      "execution_count": 7,
      "metadata": {
        "colab": {
          "base_uri": "https://localhost:8080/"
        },
        "id": "6hTCviIaH6az",
        "outputId": "054cd0db-8775-4404-9daa-e2431fd92cea"
      },
      "outputs": [
        {
          "name": "stdout",
          "output_type": "stream",
          "text": [
            "(60000, 28, 28)\n",
            "(60000,)\n",
            "(10000, 28, 28)\n",
            "(10000,)\n"
          ]
        }
      ],
      "source": [
        "print(train_images.shape)\n",
        "print(train_labels.shape)\n",
        "print(test_images.shape)\n",
        "print(test_labels.shape)"
      ]
    },
    {
      "cell_type": "code",
      "execution_count": 8,
      "metadata": {
        "id": "IneZ5AvYH1BA"
      },
      "outputs": [],
      "source": [
        "# images are \"flattened\" into vectors\n",
        "data = MNISTDataset(train_images.reshape([-1, 28*28]), train_labels,\n",
        "                    test_images.reshape([-1, 28*28]), test_labels,\n",
        "                    batch_size=128)"
      ]
    },
    {
      "cell_type": "markdown",
      "metadata": {
        "id": "o_-j3f7qeFPf"
      },
      "source": [
        "# Linear Model"
      ]
    },
    {
      "cell_type": "code",
      "execution_count": 10,
      "metadata": {
        "id": "1e-xm7xnjoAB"
      },
      "outputs": [],
      "source": [
        "# define the linear model\n",
        "# weight dimensions are completely determined by input/output dimensions\n",
        "W = tf.Variable(np.zeros([28*28, 10]).astype(np.float32))\n",
        "b = tf.Variable(np.zeros(10, dtype=np.float32))\n",
        "\n",
        "weights = [W, b]\n",
        "\n",
        "\n",
        "def model(inputs):\n",
        "    return tf.matmul(inputs, W) + b\n",
        "\n",
        "\n",
        "def get_accuracy(labels, outputs):\n",
        "    predictions = tf.argmax(outputs, axis=1, output_type=tf.int32)\n",
        "    return tf.reduce_mean(tf.cast(tf.equal(predictions, labels), tf.float32))\n",
        "\n",
        "\n",
        "# NOTE\n",
        "# the ONLY thing that you should have to change for a working MLP is to\n",
        "# - add more variables\n",
        "# - adapt the model function (don't forget activation functions)\n",
        "#   - activation functions can be found mainly in the tf.nn module,\n",
        "#     e.g. tf.nn.relu\n",
        "# - add the new variables in the gradient call/update below\n",
        "\n",
        "\n",
        "# parameters for the training process\n",
        "# this already offers potential for experimentation\n",
        "# - how many steps do we actually need to reach acceptable performance?\n",
        "# - what if we train for some absurd number of steps?\n",
        "# - what happens if we increase/decrease the learning rate?\n",
        "# - do learning rate and number of steps interact?\n",
        "# - ...\n",
        "train_steps = 2000\n",
        "learning_rate = 0.1"
      ]
    },
    {
      "cell_type": "code",
      "execution_count": 11,
      "metadata": {
        "colab": {
          "base_uri": "https://localhost:8080/"
        },
        "id": "NWwZsraTj2fx",
        "outputId": "170fb5f1-e6f8-468d-848d-5432203e87df"
      },
      "outputs": [
        {
          "name": "stdout",
          "output_type": "stream",
          "text": [
            "Step 1. Batch loss: 2.3025851249694824 Batch accuracy: 0.0859375\n",
            "Test accuracy: 0.5289000272750854\n",
            "Step 101. Batch loss: 0.6217084527015686 Batch accuracy: 0.8828125\n",
            "Test accuracy: 0.8671000003814697\n",
            "Step 201. Batch loss: 0.46020641922950745 Batch accuracy: 0.90625\n",
            "Test accuracy: 0.8853999972343445\n",
            "Step 301. Batch loss: 0.4897739887237549 Batch accuracy: 0.8671875\n",
            "Test accuracy: 0.8932999968528748\n",
            "Step 401. Batch loss: 0.3351942300796509 Batch accuracy: 0.9140625\n",
            "Test accuracy: 0.895799994468689\n",
            "Starting new epoch...\n",
            "Step 501. Batch loss: 0.2814432382583618 Batch accuracy: 0.953125\n",
            "Test accuracy: 0.9024999737739563\n",
            "Step 601. Batch loss: 0.30916324257850647 Batch accuracy: 0.9296875\n",
            "Test accuracy: 0.9024999737739563\n",
            "Step 701. Batch loss: 0.44094789028167725 Batch accuracy: 0.8984375\n",
            "Test accuracy: 0.9059000015258789\n",
            "Step 801. Batch loss: 0.41599494218826294 Batch accuracy: 0.90625\n",
            "Test accuracy: 0.9068999886512756\n",
            "Step 901. Batch loss: 0.4544479250907898 Batch accuracy: 0.8671875\n",
            "Test accuracy: 0.9090999960899353\n",
            "Starting new epoch...\n",
            "Step 1001. Batch loss: 0.39252331852912903 Batch accuracy: 0.90625\n",
            "Test accuracy: 0.9096999764442444\n",
            "Step 1101. Batch loss: 0.3283212184906006 Batch accuracy: 0.9140625\n",
            "Test accuracy: 0.9101999998092651\n",
            "Step 1201. Batch loss: 0.3739597797393799 Batch accuracy: 0.8984375\n",
            "Test accuracy: 0.9121000170707703\n",
            "Step 1301. Batch loss: 0.1761249303817749 Batch accuracy: 0.9609375\n",
            "Test accuracy: 0.9128999710083008\n",
            "Step 1401. Batch loss: 0.337858647108078 Batch accuracy: 0.8984375\n",
            "Test accuracy: 0.9115999937057495\n",
            "Starting new epoch...\n",
            "Step 1501. Batch loss: 0.24366030097007751 Batch accuracy: 0.9453125\n",
            "Test accuracy: 0.9146999716758728\n",
            "Step 1601. Batch loss: 0.3792513608932495 Batch accuracy: 0.890625\n",
            "Test accuracy: 0.9139999747276306\n",
            "Step 1701. Batch loss: 0.3607092499732971 Batch accuracy: 0.8828125\n",
            "Test accuracy: 0.9146999716758728\n",
            "Step 1801. Batch loss: 0.32843247056007385 Batch accuracy: 0.921875\n",
            "Test accuracy: 0.916100025177002\n",
            "Starting new epoch...\n",
            "Step 1901. Batch loss: 0.28688693046569824 Batch accuracy: 0.921875\n",
            "Test accuracy: 0.9150999784469604\n",
            "Step 2001. Batch loss: 0.32381898164749146 Batch accuracy: 0.9140625\n",
            "Test accuracy: 0.9175000190734863\n"
          ]
        }
      ],
      "source": [
        "# training loop\n",
        "for step in range(train_steps+1):\n",
        "    image_batch, label_batch = data.next_batch()\n",
        "\n",
        "    with tf.GradientTape() as tape:\n",
        "        logits = model(image_batch)\n",
        "        cross_entropy = tf.reduce_mean(tf.nn.sparse_softmax_cross_entropy_with_logits(\n",
        "            logits=logits, labels=label_batch))\n",
        "\n",
        "    grads = tape.gradient(cross_entropy, weights)\n",
        "    W.assign_sub(learning_rate * grads[0])\n",
        "    b.assign_sub(learning_rate * grads[1])\n",
        "\n",
        "    # every so often we print loss/accuracy\n",
        "    if not step % 100:\n",
        "        accuracy = get_accuracy(label_batch, logits)\n",
        "        print(\"Step {}. Batch loss: {} Batch accuracy: {}\".format(step+1, cross_entropy, accuracy))\n",
        "\n",
        "        test_logits = model(data.test_data)\n",
        "        test_accuracy = get_accuracy(data.test_labels, test_logits)\n",
        "        print(\"Test accuracy: {}\".format(test_accuracy))\n"
      ]
    },
    {
      "cell_type": "code",
      "execution_count": 12,
      "metadata": {
        "colab": {
          "base_uri": "https://localhost:8080/"
        },
        "id": "pGSRvdL5j6iz",
        "outputId": "6046cffc-3ba2-4fb9-fcbe-df31fecd0c72"
      },
      "outputs": [
        {
          "name": "stdout",
          "output_type": "stream",
          "text": [
            "Test accuracy: 0.9175000190734863\n"
          ]
        }
      ],
      "source": [
        "test_predictions = tf.argmax(model(data.test_data), axis=1,\n",
        "                       output_type=tf.int32)\n",
        "test_accuracy = tf.reduce_mean(tf.cast(tf.equal(test_predictions, data.test_labels),\n",
        "                             tf.float32))\n",
        "print(\"Test accuracy: {}\".format(test_accuracy))\n"
      ]
    },
    {
      "cell_type": "code",
      "execution_count": 13,
      "metadata": {
        "colab": {
          "base_uri": "https://localhost:8080/",
          "height": 410
        },
        "id": "nbSzsIEeUthq",
        "outputId": "1f1044ce-3000-42ea-8158-6f4924a1f44f"
      },
      "outputs": [
        {
          "data": {
            "image/png": "[encoded data removed]",
            "text/plain": [
              "<Figure size 1000x400 with 10 Axes>"
            ]
          },
          "metadata": {},
          "output_type": "display_data"
        }
      ],
      "source": [
        "# some rudimentary visualization.\n",
        "# in a  linear model, the weights basically learn one pattern per class.\n",
        "# the patterns are compared to the input and the pattern with the highest matching score\n",
        "# (dot product) \"wins\".\n",
        "# we can plot the pattern learned for each class as an image.\n",
        "# they don't always look as expected :)\n",
        "\n",
        "plt.figure(figsize=(10, 4))\n",
        "for ind, pattern in enumerate(W.numpy().T):\n",
        "    pattern = pattern.reshape((28, 28))\n",
        "\n",
        "    absmax = abs(pattern).max()\n",
        "    plt.subplot(2, 5, ind+1)\n",
        "    plt.imshow(pattern, vmin=-absmax, vmax=absmax, cmap=\"coolwarm\")\n",
        "    plt.axis(\"off\")\n",
        "    plt.title(\"Pattern for digit {}\".format(ind))\n",
        "plt.tight_layout()\n",
        "plt.show()"
      ]
    },
    {
      "cell_type": "markdown",
      "metadata": {
        "id": "eZd17mERiusI"
      },
      "source": [
        "# Adding a hidden layer\n",
        "\n",
        "Weights and biases updated"
      ]
    },
    {
      "cell_type": "code",
      "execution_count": 14,
      "metadata": {
        "id": "980Q7ZHrdrpB"
      },
      "outputs": [],
      "source": [
        "data = MNISTDataset(train_images.reshape([-1, 28*28]), train_labels,\n",
        "                    test_images.reshape([-1, 28*28]), test_labels,\n",
        "                    batch_size=128)"
      ]
    },
    {
      "cell_type": "code",
      "execution_count": 25,
      "metadata": {
        "id": "jIswLDAJsLkA"
      },
      "outputs": [],
      "source": [
        "def deepnn(nodes, weight_range, train_steps, learning_rate):\n",
        "    w0 = tf.Variable(np.random.uniform(-weight_range, weight_range, [28*28,nodes]).astype(np.float32))\n",
        "    b0 =  tf.Variable(np.zeros(nodes, dtype=np.float32))\n",
        "\n",
        "    w1 = tf.Variable(np.random.uniform(-weight_range, weight_range, [nodes,10]).astype(np.float32))\n",
        "    b1 =  tf.Variable(np.zeros(10, dtype=np.float32))\n",
        "\n",
        "    W = [w0, w1]\n",
        "    b = [b0, b1]\n",
        "\n",
        "    def model(inputs):\n",
        "        for wt, bs in zip(W, b):\n",
        "          inputs = tf.nn.relu(tf.matmul(inputs, wt) + bs)\n",
        "\n",
        "        return inputs\n",
        "\n",
        "    def get_accuracy(labels, outputs):\n",
        "        predictions = tf.argmax(outputs, axis=1, output_type=tf.int32)\n",
        "        return tf.reduce_mean(tf.cast(tf.equal(predictions, labels), tf.float32))\n",
        "\n",
        "    for step in range(train_steps+1):\n",
        "        image_batch, label_batch = data.next_batch()\n",
        "\n",
        "        with tf.GradientTape(persistent=True) as tape:\n",
        "            logits = model(image_batch)\n",
        "            cross_entropy = tf.reduce_mean(tf.nn.sparse_softmax_cross_entropy_with_logits(\n",
        "                logits=logits, labels=label_batch))\n",
        "\n",
        "        for i in range(len(W)):\n",
        "          grads = tape.gradient(cross_entropy, [W[i], b[i]])\n",
        "          W[i].assign_sub(learning_rate * grads[0])\n",
        "          b[i].assign_sub(learning_rate * grads[1])\n",
        "\n",
        "        # every so often we print loss/accuracy\n",
        "        if not step % 100:\n",
        "            accuracy = get_accuracy(label_batch, logits)\n",
        "            print(\"Step {}. Batch loss: {} Batch accuracy: {}\".format(step+1, cross_entropy, accuracy))\n",
        "\n",
        "            test_logits = model(data.test_data)\n",
        "            test_accuracy = get_accuracy(data.test_labels, test_logits)\n",
        "            print(\"Test accuracy: {}\".format(test_accuracy))\n",
        "\n",
        "    return test_accuracy"
      ]
    },
    {
      "cell_type": "code",
      "execution_count": 16,
      "metadata": {
        "id": "iTCDSEELsRYA"
      },
      "outputs": [],
      "source": [
        "train_steps = 2000\n",
        "learning_rate = 0.1"
      ]
    },
    {
      "cell_type": "code",
      "execution_count": 26,
      "metadata": {
        "colab": {
          "base_uri": "https://localhost:8080/"
        },
        "id": "ve7gTtFT_Hb-",
        "outputId": "3902e179-3250-483f-bf2a-a8a4c6e3bba8"
      },
      "outputs": [
        {
          "name": "stdout",
          "output_type": "stream",
          "text": [
            "Step 1. Batch loss: 2.3324832916259766 Batch accuracy: 0.0703125\n",
            "Test accuracy: 0.1517000049352646\n",
            "Step 101. Batch loss: 0.7539874315261841 Batch accuracy: 0.8046875\n",
            "Test accuracy: 0.7971000075340271\n",
            "Step 201. Batch loss: 0.7018442749977112 Batch accuracy: 0.796875\n",
            "Test accuracy: 0.8131999969482422\n",
            "Starting new epoch...\n",
            "Step 301. Batch loss: 0.6695454120635986 Batch accuracy: 0.7734375\n",
            "Test accuracy: 0.8197000026702881\n",
            "Step 401. Batch loss: 0.7122830152511597 Batch accuracy: 0.7890625\n",
            "Test accuracy: 0.8292999863624573\n",
            "Step 501. Batch loss: 0.5937312841415405 Batch accuracy: 0.8203125\n",
            "Test accuracy: 0.8296999931335449\n",
            "Step 601. Batch loss: 0.5256243944168091 Batch accuracy: 0.8359375\n",
            "Test accuracy: 0.8360000252723694\n",
            "Step 701. Batch loss: 0.46494409441947937 Batch accuracy: 0.8359375\n",
            "Test accuracy: 0.8389000296592712\n",
            "Starting new epoch...\n",
            "Step 801. Batch loss: 0.5627955198287964 Batch accuracy: 0.8203125\n",
            "Test accuracy: 0.839900016784668\n",
            "Step 901. Batch loss: 0.517666220664978 Batch accuracy: 0.8359375\n",
            "Test accuracy: 0.8439000248908997\n",
            "Step 1001. Batch loss: 0.431583046913147 Batch accuracy: 0.8671875\n",
            "Test accuracy: 0.8447999954223633\n",
            "Step 1101. Batch loss: 0.30306607484817505 Batch accuracy: 0.9296875\n",
            "Test accuracy: 0.9363999962806702\n",
            "Step 1201. Batch loss: 0.3180050253868103 Batch accuracy: 0.890625\n",
            "Test accuracy: 0.9387999773025513\n",
            "Starting new epoch...\n",
            "Step 1301. Batch loss: 0.24711543321609497 Batch accuracy: 0.9140625\n",
            "Test accuracy: 0.9412000179290771\n",
            "Step 1401. Batch loss: 0.20268091559410095 Batch accuracy: 0.9296875\n",
            "Test accuracy: 0.9420999884605408\n",
            "Step 1501. Batch loss: 0.17249208688735962 Batch accuracy: 0.9453125\n",
            "Test accuracy: 0.9434000253677368\n",
            "Step 1601. Batch loss: 0.21218135952949524 Batch accuracy: 0.9140625\n",
            "Test accuracy: 0.9463000297546387\n",
            "Starting new epoch...\n",
            "Step 1701. Batch loss: 0.18728697299957275 Batch accuracy: 0.9375\n",
            "Test accuracy: 0.9480000138282776\n",
            "Step 1801. Batch loss: 0.0790674239397049 Batch accuracy: 0.984375\n",
            "Test accuracy: 0.9488999843597412\n",
            "Step 1901. Batch loss: 0.29937833547592163 Batch accuracy: 0.9140625\n",
            "Test accuracy: 0.9498000144958496\n",
            "Step 2001. Batch loss: 0.06613659858703613 Batch accuracy: 0.9765625\n",
            "Test accuracy: 0.9523000121116638\n"
          ]
        },
        {
          "data": {
            "text/plain": [
              "<tf.Tensor: shape=(), dtype=float32, numpy=0.9523>"
            ]
          },
          "execution_count": 26,
          "metadata": {},
          "output_type": "execute_result"
        }
      ],
      "source": [
        "deepnn(nodes = 256, weight_range = 0.1, train_steps = 2000, learning_rate = 0.1)"
      ]
    },
    {
      "cell_type": "code",
      "execution_count": 21,
      "metadata": {
        "colab": {
          "base_uri": "https://localhost:8080/"
        },
        "id": "xDm6Hd6CkXnZ",
        "outputId": "2fda1bbe-3364-4a2c-da59-6d0c56b555e2"
      },
      "outputs": [
        {
          "name": "stdout",
          "output_type": "stream",
          "text": [
            "Step 1. Batch loss: 2.288914680480957 Batch accuracy: 0.1015625\n",
            "Test accuracy: 0.13189999759197235\n",
            "Step 101. Batch loss: 0.5348054766654968 Batch accuracy: 0.8671875\n",
            "Test accuracy: 0.8755999803543091\n",
            "Step 201. Batch loss: 0.3951537013053894 Batch accuracy: 0.8671875\n",
            "Test accuracy: 0.8949000239372253\n",
            "Step 301. Batch loss: 0.3789404630661011 Batch accuracy: 0.890625\n",
            "Test accuracy: 0.9067999720573425\n",
            "Step 401. Batch loss: 0.3115314841270447 Batch accuracy: 0.90625\n",
            "Test accuracy: 0.9161999821662903\n",
            "Starting new epoch...\n",
            "Step 501. Batch loss: 0.4372786283493042 Batch accuracy: 0.875\n",
            "Test accuracy: 0.9207000136375427\n",
            "Step 601. Batch loss: 0.29959994554519653 Batch accuracy: 0.921875\n",
            "Test accuracy: 0.9279999732971191\n",
            "Step 701. Batch loss: 0.34868547320365906 Batch accuracy: 0.9140625\n",
            "Test accuracy: 0.9316999912261963\n",
            "Step 801. Batch loss: 0.14728039503097534 Batch accuracy: 0.9609375\n",
            "Test accuracy: 0.9308000206947327\n",
            "Step 901. Batch loss: 0.31406843662261963 Batch accuracy: 0.9296875\n",
            "Test accuracy: 0.9362000226974487\n",
            "Starting new epoch...\n",
            "Step 1001. Batch loss: 0.29652559757232666 Batch accuracy: 0.9140625\n",
            "Test accuracy: 0.9395999908447266\n",
            "Step 1101. Batch loss: 0.15779705345630646 Batch accuracy: 0.953125\n",
            "Test accuracy: 0.9398000240325928\n",
            "Step 1201. Batch loss: 0.20683294534683228 Batch accuracy: 0.9296875\n",
            "Test accuracy: 0.9406999945640564\n",
            "Step 1301. Batch loss: 0.11358343064785004 Batch accuracy: 0.9765625\n",
            "Test accuracy: 0.9433000087738037\n",
            "Starting new epoch...\n",
            "Step 1401. Batch loss: 0.10173876583576202 Batch accuracy: 0.9765625\n",
            "Test accuracy: 0.9470999836921692\n",
            "Step 1501. Batch loss: 0.14667680859565735 Batch accuracy: 0.953125\n",
            "Test accuracy: 0.9470999836921692\n",
            "Step 1601. Batch loss: 0.20198896527290344 Batch accuracy: 0.9453125\n",
            "Test accuracy: 0.9484000205993652\n",
            "Step 1701. Batch loss: 0.10030920803546906 Batch accuracy: 0.984375\n",
            "Test accuracy: 0.9513999819755554\n",
            "Step 1801. Batch loss: 0.10160985589027405 Batch accuracy: 0.9609375\n",
            "Test accuracy: 0.9524999856948853\n",
            "Starting new epoch...\n",
            "Step 1901. Batch loss: 0.06596358120441437 Batch accuracy: 0.9921875\n",
            "Test accuracy: 0.9528999924659729\n",
            "Step 2001. Batch loss: 0.21142622828483582 Batch accuracy: 0.9375\n",
            "Test accuracy: 0.953499972820282\n",
            "Step 2101. Batch loss: 0.15863743424415588 Batch accuracy: 0.9609375\n",
            "Test accuracy: 0.9563999772071838\n",
            "Step 2201. Batch loss: 0.12403658777475357 Batch accuracy: 0.96875\n",
            "Test accuracy: 0.9574999809265137\n",
            "Step 2301. Batch loss: 0.13399924337863922 Batch accuracy: 0.9609375\n",
            "Test accuracy: 0.9584000110626221\n",
            "Starting new epoch...\n",
            "Step 2401. Batch loss: 0.08191872388124466 Batch accuracy: 0.9765625\n",
            "Test accuracy: 0.9592999815940857\n",
            "Step 2501. Batch loss: 0.14093032479286194 Batch accuracy: 0.953125\n",
            "Test accuracy: 0.9592000246047974\n",
            "Step 2601. Batch loss: 0.11821337789297104 Batch accuracy: 0.9609375\n",
            "Test accuracy: 0.9593999981880188\n",
            "Step 2701. Batch loss: 0.12189708650112152 Batch accuracy: 0.953125\n",
            "Test accuracy: 0.9611999988555908\n",
            "Starting new epoch...\n",
            "Step 2801. Batch loss: 0.0980510264635086 Batch accuracy: 0.96875\n",
            "Test accuracy: 0.9610999822616577\n",
            "Step 2901. Batch loss: 0.10569924861192703 Batch accuracy: 0.9609375\n",
            "Test accuracy: 0.9623000025749207\n",
            "Step 3001. Batch loss: 0.19282236695289612 Batch accuracy: 0.9453125\n",
            "Test accuracy: 0.9635999798774719\n"
          ]
        }
      ],
      "source": [
        "deepnn(nodes = 256, weight_range = 0.1, train_steps = 3000, learning_rate = 0.1)"
      ]
    },
    {
      "cell_type": "code",
      "execution_count": 20,
      "metadata": {
        "colab": {
          "base_uri": "https://localhost:8080/"
        },
        "id": "tJzDgdqpkEPN",
        "outputId": "bc890b49-9908-4f90-dddf-d50363a9ef94"
      },
      "outputs": [
        {
          "name": "stdout",
          "output_type": "stream",
          "text": [
            "Step 1. Batch loss: 7.4392266273498535 Batch accuracy: 0.1328125\n",
            "Test accuracy: 0.14020000398159027\n",
            "Starting new epoch...\n",
            "Step 101. Batch loss: 1.975414752960205 Batch accuracy: 0.2890625\n",
            "Test accuracy: 0.2797999978065491\n",
            "Step 201. Batch loss: 1.6640715599060059 Batch accuracy: 0.484375\n",
            "Test accuracy: 0.43470001220703125\n",
            "Step 301. Batch loss: 1.6941440105438232 Batch accuracy: 0.53125\n",
            "Test accuracy: 0.5489000082015991\n",
            "Step 401. Batch loss: 1.2798532247543335 Batch accuracy: 0.578125\n",
            "Test accuracy: 0.6122000217437744\n",
            "Step 501. Batch loss: 1.1404573917388916 Batch accuracy: 0.671875\n",
            "Test accuracy: 0.6319000124931335\n",
            "Starting new epoch...\n",
            "Step 601. Batch loss: 1.187378168106079 Batch accuracy: 0.6484375\n",
            "Test accuracy: 0.6633999943733215\n",
            "Step 701. Batch loss: 1.370940089225769 Batch accuracy: 0.734375\n",
            "Test accuracy: 0.7016000151634216\n",
            "Step 801. Batch loss: 0.7766975164413452 Batch accuracy: 0.8515625\n",
            "Test accuracy: 0.8169000148773193\n",
            "Step 901. Batch loss: 1.0642714500427246 Batch accuracy: 0.7890625\n",
            "Test accuracy: 0.8567000031471252\n",
            "Step 1001. Batch loss: 0.5671504735946655 Batch accuracy: 0.8671875\n",
            "Test accuracy: 0.8852999806404114\n",
            "Starting new epoch...\n",
            "Step 1101. Batch loss: 0.5098825097084045 Batch accuracy: 0.90625\n",
            "Test accuracy: 0.8956999778747559\n",
            "Step 1201. Batch loss: 0.4835803210735321 Batch accuracy: 0.9453125\n",
            "Test accuracy: 0.9039000272750854\n",
            "Step 1301. Batch loss: 0.630346417427063 Batch accuracy: 0.890625\n",
            "Test accuracy: 0.9049999713897705\n",
            "Step 1401. Batch loss: 0.6053633689880371 Batch accuracy: 0.859375\n",
            "Test accuracy: 0.9092000126838684\n",
            "Starting new epoch...\n",
            "Step 1501. Batch loss: 0.38204464316368103 Batch accuracy: 0.9375\n",
            "Test accuracy: 0.9153000116348267\n",
            "Step 1601. Batch loss: 0.32867321372032166 Batch accuracy: 0.9296875\n",
            "Test accuracy: 0.9138000011444092\n",
            "Step 1701. Batch loss: 0.5001397132873535 Batch accuracy: 0.9140625\n",
            "Test accuracy: 0.9164000153541565\n",
            "Step 1801. Batch loss: 0.4039827585220337 Batch accuracy: 0.9375\n",
            "Test accuracy: 0.9207000136375427\n",
            "Step 1901. Batch loss: 0.3484516739845276 Batch accuracy: 0.921875\n",
            "Test accuracy: 0.9240000247955322\n",
            "Starting new epoch...\n",
            "Step 2001. Batch loss: 0.43547844886779785 Batch accuracy: 0.953125\n",
            "Test accuracy: 0.9258999824523926\n"
          ]
        }
      ],
      "source": [
        "deepnn(nodes = 256, weight_range = 0.5, train_steps = 2000, learning_rate = 0.1)"
      ]
    },
    {
      "cell_type": "code",
      "execution_count": 18,
      "metadata": {
        "colab": {
          "base_uri": "https://localhost:8080/"
        },
        "id": "lm7uRiN4jOZA",
        "outputId": "fd7e7389-ce4d-4f6b-b3a4-5a816332439f"
      },
      "outputs": [
        {
          "name": "stdout",
          "output_type": "stream",
          "text": [
            "Step 1. Batch loss: 2.327716112136841 Batch accuracy: 0.03125\n",
            "Test accuracy: 0.08749999850988388\n",
            "Step 101. Batch loss: 1.232053518295288 Batch accuracy: 0.6171875\n",
            "Test accuracy: 0.6883000135421753\n",
            "Step 201. Batch loss: 1.013066053390503 Batch accuracy: 0.6796875\n",
            "Test accuracy: 0.7142999768257141\n",
            "Step 301. Batch loss: 0.800326943397522 Batch accuracy: 0.703125\n",
            "Test accuracy: 0.7221999764442444\n",
            "Starting new epoch...\n",
            "Step 401. Batch loss: 0.8638477325439453 Batch accuracy: 0.6875\n",
            "Test accuracy: 0.7333999872207642\n",
            "Step 501. Batch loss: 0.7992844581604004 Batch accuracy: 0.7109375\n",
            "Test accuracy: 0.7355999946594238\n",
            "Step 601. Batch loss: 0.6868355870246887 Batch accuracy: 0.765625\n",
            "Test accuracy: 0.7372000217437744\n",
            "Step 701. Batch loss: 0.8777542114257812 Batch accuracy: 0.640625\n",
            "Test accuracy: 0.7408000230789185\n",
            "Step 801. Batch loss: 0.6770921945571899 Batch accuracy: 0.75\n",
            "Test accuracy: 0.7404999732971191\n",
            "Starting new epoch...\n",
            "Step 901. Batch loss: 0.8371627330780029 Batch accuracy: 0.71875\n",
            "Test accuracy: 0.7429999709129333\n",
            "Step 1001. Batch loss: 0.672478199005127 Batch accuracy: 0.765625\n",
            "Test accuracy: 0.7457000017166138\n",
            "Step 1101. Batch loss: 0.8558000326156616 Batch accuracy: 0.703125\n",
            "Test accuracy: 0.7476000189781189\n",
            "Step 1201. Batch loss: 0.6998412609100342 Batch accuracy: 0.734375\n",
            "Test accuracy: 0.7472000122070312\n",
            "Starting new epoch...\n",
            "Step 1301. Batch loss: 0.8184370994567871 Batch accuracy: 0.734375\n",
            "Test accuracy: 0.7491999864578247\n",
            "Step 1401. Batch loss: 0.7042322754859924 Batch accuracy: 0.734375\n",
            "Test accuracy: 0.7508000135421753\n",
            "Step 1501. Batch loss: 0.8069117069244385 Batch accuracy: 0.6953125\n",
            "Test accuracy: 0.7505000233650208\n",
            "Step 1601. Batch loss: 0.5880117416381836 Batch accuracy: 0.84375\n",
            "Test accuracy: 0.8360000252723694\n",
            "Step 1701. Batch loss: 0.5408758521080017 Batch accuracy: 0.796875\n",
            "Test accuracy: 0.8445000052452087\n",
            "Starting new epoch...\n",
            "Step 1801. Batch loss: 0.44014886021614075 Batch accuracy: 0.8359375\n",
            "Test accuracy: 0.8467000126838684\n",
            "Step 1901. Batch loss: 0.5641353130340576 Batch accuracy: 0.828125\n",
            "Test accuracy: 0.8474000096321106\n",
            "Step 2001. Batch loss: 0.3420071005821228 Batch accuracy: 0.875\n",
            "Test accuracy: 0.8493000268936157\n"
          ]
        }
      ],
      "source": [
        "deepnn(nodes = 128, weight_range = 0.1, train_steps = 2000, learning_rate = 0.1)"
      ]
    },
    {
      "cell_type": "code",
      "execution_count": 22,
      "metadata": {
        "colab": {
          "base_uri": "https://localhost:8080/"
        },
        "id": "UBRdNG11kI_G",
        "outputId": "ea758102-0dac-4046-ac30-7156bf0ad72b"
      },
      "outputs": [
        {
          "name": "stdout",
          "output_type": "stream",
          "text": [
            "Step 1. Batch loss: 7.162877559661865 Batch accuracy: 0.15625\n",
            "Test accuracy: 0.11620000004768372\n",
            "Step 101. Batch loss: 2.271188497543335 Batch accuracy: 0.171875\n",
            "Test accuracy: 0.22789999842643738\n",
            "Step 201. Batch loss: 1.6236417293548584 Batch accuracy: 0.421875\n",
            "Test accuracy: 0.3637000024318695\n",
            "Starting new epoch...\n",
            "Step 301. Batch loss: 1.5185800790786743 Batch accuracy: 0.53125\n",
            "Test accuracy: 0.5307000279426575\n",
            "Step 401. Batch loss: 1.3317657709121704 Batch accuracy: 0.625\n",
            "Test accuracy: 0.632099986076355\n",
            "Step 501. Batch loss: 1.0102510452270508 Batch accuracy: 0.6953125\n",
            "Test accuracy: 0.6604999899864197\n",
            "Step 601. Batch loss: 0.9331879019737244 Batch accuracy: 0.6875\n",
            "Test accuracy: 0.6769000291824341\n",
            "Step 701. Batch loss: 1.1032533645629883 Batch accuracy: 0.671875\n",
            "Test accuracy: 0.6862999796867371\n",
            "Starting new epoch...\n",
            "Step 801. Batch loss: 1.0616254806518555 Batch accuracy: 0.765625\n",
            "Test accuracy: 0.6912999749183655\n",
            "Step 901. Batch loss: 1.07259202003479 Batch accuracy: 0.640625\n",
            "Test accuracy: 0.7003999948501587\n",
            "Step 1001. Batch loss: 0.943312406539917 Batch accuracy: 0.7421875\n",
            "Test accuracy: 0.8061000108718872\n",
            "Step 1101. Batch loss: 0.691666305065155 Batch accuracy: 0.8125\n",
            "Test accuracy: 0.8155999779701233\n",
            "Starting new epoch...\n",
            "Step 1201. Batch loss: 0.7260735034942627 Batch accuracy: 0.8203125\n",
            "Test accuracy: 0.8205999732017517\n",
            "Step 1301. Batch loss: 0.5594831109046936 Batch accuracy: 0.8828125\n",
            "Test accuracy: 0.8251000046730042\n",
            "Step 1401. Batch loss: 0.7503547668457031 Batch accuracy: 0.8203125\n",
            "Test accuracy: 0.8274999856948853\n",
            "Step 1501. Batch loss: 0.7511153817176819 Batch accuracy: 0.859375\n",
            "Test accuracy: 0.8281999826431274\n",
            "Step 1601. Batch loss: 0.5868041515350342 Batch accuracy: 0.8203125\n",
            "Test accuracy: 0.8270999789237976\n",
            "Starting new epoch...\n",
            "Step 1701. Batch loss: 0.5665165781974792 Batch accuracy: 0.7890625\n",
            "Test accuracy: 0.8348000049591064\n",
            "Step 1801. Batch loss: 0.4959433972835541 Batch accuracy: 0.828125\n",
            "Test accuracy: 0.836899995803833\n",
            "Step 1901. Batch loss: 0.6273712515830994 Batch accuracy: 0.8203125\n",
            "Test accuracy: 0.8414000272750854\n",
            "Step 2001. Batch loss: 0.5217047929763794 Batch accuracy: 0.828125\n",
            "Test accuracy: 0.8417999744415283\n"
          ]
        }
      ],
      "source": [
        "deepnn(nodes = 128, weight_range = 0.5, train_steps = 2000, learning_rate = 0.1)"
      ]
    },
    {
      "cell_type": "code",
      "execution_count": 23,
      "metadata": {
        "colab": {
          "base_uri": "https://localhost:8080/"
        },
        "id": "ST9LLiipkorA",
        "outputId": "53575576-7c63-479d-c90c-beb60bc42713"
      },
      "outputs": [
        {
          "name": "stdout",
          "output_type": "stream",
          "text": [
            "Step 1. Batch loss: 2.3024072647094727 Batch accuracy: 0.140625\n",
            "Test accuracy: 0.15119999647140503\n",
            "Step 101. Batch loss: 1.2731670141220093 Batch accuracy: 0.609375\n",
            "Test accuracy: 0.5950999855995178\n",
            "Starting new epoch...\n",
            "Step 201. Batch loss: 1.0032069683074951 Batch accuracy: 0.671875\n",
            "Test accuracy: 0.6869999766349792\n",
            "Step 301. Batch loss: 0.7388947010040283 Batch accuracy: 0.8046875\n",
            "Test accuracy: 0.8044000267982483\n",
            "Step 401. Batch loss: 0.7066687345504761 Batch accuracy: 0.75\n",
            "Test accuracy: 0.8137999773025513\n",
            "Step 501. Batch loss: 0.5850850343704224 Batch accuracy: 0.796875\n",
            "Test accuracy: 0.8258000016212463\n",
            "Starting new epoch...\n",
            "Step 601. Batch loss: 0.5661432147026062 Batch accuracy: 0.796875\n",
            "Test accuracy: 0.8306000232696533\n",
            "Step 701. Batch loss: 0.4540446400642395 Batch accuracy: 0.8515625\n",
            "Test accuracy: 0.8295999765396118\n",
            "Step 801. Batch loss: 0.573180615901947 Batch accuracy: 0.7734375\n",
            "Test accuracy: 0.8357999920845032\n",
            "Step 901. Batch loss: 0.30933845043182373 Batch accuracy: 0.8984375\n",
            "Test accuracy: 0.9259999990463257\n",
            "Step 1001. Batch loss: 0.26675549149513245 Batch accuracy: 0.9140625\n",
            "Test accuracy: 0.9315000176429749\n",
            "Starting new epoch...\n",
            "Step 1101. Batch loss: 0.2893638014793396 Batch accuracy: 0.921875\n",
            "Test accuracy: 0.9330999851226807\n",
            "Step 1201. Batch loss: 0.13993993401527405 Batch accuracy: 0.9609375\n",
            "Test accuracy: 0.935699999332428\n",
            "Step 1301. Batch loss: 0.33135896921157837 Batch accuracy: 0.9296875\n",
            "Test accuracy: 0.9379000067710876\n",
            "Step 1401. Batch loss: 0.18716615438461304 Batch accuracy: 0.9375\n",
            "Test accuracy: 0.9416000247001648\n",
            "Step 1501. Batch loss: 0.18386566638946533 Batch accuracy: 0.9609375\n",
            "Test accuracy: 0.9430000185966492\n",
            "Starting new epoch...\n",
            "Step 1601. Batch loss: 0.29574865102767944 Batch accuracy: 0.90625\n",
            "Test accuracy: 0.9437000155448914\n",
            "Step 1701. Batch loss: 0.14263969659805298 Batch accuracy: 0.9609375\n",
            "Test accuracy: 0.9451000094413757\n",
            "Step 1801. Batch loss: 0.17121028900146484 Batch accuracy: 0.96875\n",
            "Test accuracy: 0.9467999935150146\n",
            "Step 1901. Batch loss: 0.13258804380893707 Batch accuracy: 0.9609375\n",
            "Test accuracy: 0.9483000040054321\n",
            "Step 2001. Batch loss: 0.2247288078069687 Batch accuracy: 0.921875\n",
            "Test accuracy: 0.9474999904632568\n",
            "Starting new epoch...\n",
            "Step 2101. Batch loss: 0.20246779918670654 Batch accuracy: 0.9296875\n",
            "Test accuracy: 0.9514999985694885\n",
            "Step 2201. Batch loss: 0.08972743153572083 Batch accuracy: 0.984375\n",
            "Test accuracy: 0.9527000188827515\n",
            "Step 2301. Batch loss: 0.19895192980766296 Batch accuracy: 0.9375\n",
            "Test accuracy: 0.9528999924659729\n",
            "Step 2401. Batch loss: 0.1909397691488266 Batch accuracy: 0.9453125\n",
            "Test accuracy: 0.9542999863624573\n",
            "Starting new epoch...\n",
            "Step 2501. Batch loss: 0.16998611390590668 Batch accuracy: 0.96875\n",
            "Test accuracy: 0.9555000066757202\n",
            "Step 2601. Batch loss: 0.15006035566329956 Batch accuracy: 0.9609375\n",
            "Test accuracy: 0.9559000134468079\n",
            "Step 2701. Batch loss: 0.2521061301231384 Batch accuracy: 0.9453125\n",
            "Test accuracy: 0.9573000073432922\n",
            "Step 2801. Batch loss: 0.22477713227272034 Batch accuracy: 0.9453125\n",
            "Test accuracy: 0.9570000171661377\n",
            "Step 2901. Batch loss: 0.17583638429641724 Batch accuracy: 0.953125\n",
            "Test accuracy: 0.9581999778747559\n",
            "Starting new epoch...\n",
            "Step 3001. Batch loss: 0.16147515177726746 Batch accuracy: 0.953125\n",
            "Test accuracy: 0.9589999914169312\n"
          ]
        }
      ],
      "source": [
        "deepnn(nodes = 128, weight_range = 0.1, train_steps = 3000, learning_rate = 0.1)"
      ]
    },
    {
      "cell_type": "code",
      "execution_count": 19,
      "metadata": {
        "colab": {
          "base_uri": "https://localhost:8080/"
        },
        "id": "A6O4rFdrjqKk",
        "outputId": "2496a55c-f1ae-4845-ffeb-582506e8de7f"
      },
      "outputs": [
        {
          "name": "stdout",
          "output_type": "stream",
          "text": [
            "Step 1. Batch loss: 2.3803436756134033 Batch accuracy: 0.0546875\n",
            "Test accuracy: 0.11010000109672546\n",
            "Step 101. Batch loss: 0.6375302672386169 Batch accuracy: 0.8359375\n",
            "Test accuracy: 0.8037999868392944\n",
            "Step 201. Batch loss: 0.6093590259552002 Batch accuracy: 0.8359375\n",
            "Test accuracy: 0.8641999959945679\n",
            "Starting new epoch...\n",
            "Step 301. Batch loss: 0.5723909139633179 Batch accuracy: 0.8828125\n",
            "Test accuracy: 0.8723000288009644\n",
            "Step 401. Batch loss: 0.5451146364212036 Batch accuracy: 0.8984375\n",
            "Test accuracy: 0.8985999822616577\n",
            "Step 501. Batch loss: 0.5182484984397888 Batch accuracy: 0.9296875\n",
            "Test accuracy: 0.9038000106811523\n",
            "Step 601. Batch loss: 0.4330449402332306 Batch accuracy: 0.90625\n",
            "Test accuracy: 0.9031999707221985\n",
            "Starting new epoch...\n",
            "Step 701. Batch loss: 0.437968909740448 Batch accuracy: 0.8828125\n",
            "Test accuracy: 0.9106000065803528\n",
            "Step 801. Batch loss: 0.5767238736152649 Batch accuracy: 0.90625\n",
            "Test accuracy: 0.9214000105857849\n",
            "Step 901. Batch loss: 0.5502599477767944 Batch accuracy: 0.9296875\n",
            "Test accuracy: 0.9221000075340271\n",
            "Step 1001. Batch loss: 0.3693719506263733 Batch accuracy: 0.9453125\n",
            "Test accuracy: 0.9287999868392944\n",
            "Step 1101. Batch loss: 0.5809381008148193 Batch accuracy: 0.921875\n",
            "Test accuracy: 0.9276000261306763\n",
            "Starting new epoch...\n",
            "Step 1201. Batch loss: 0.3461851477622986 Batch accuracy: 0.9609375\n",
            "Test accuracy: 0.9305999875068665\n",
            "Step 1301. Batch loss: 0.3803912401199341 Batch accuracy: 0.9296875\n",
            "Test accuracy: 0.9394999742507935\n",
            "Step 1401. Batch loss: 0.44323739409446716 Batch accuracy: 0.96875\n",
            "Test accuracy: 0.9420999884605408\n",
            "Step 1501. Batch loss: 0.405486136674881 Batch accuracy: 0.9140625\n",
            "Test accuracy: 0.9398999810218811\n",
            "Step 1601. Batch loss: 0.41801899671554565 Batch accuracy: 0.9140625\n",
            "Test accuracy: 0.9408000111579895\n",
            "Starting new epoch...\n",
            "Step 1701. Batch loss: 0.3651643991470337 Batch accuracy: 0.9296875\n",
            "Test accuracy: 0.9426000118255615\n",
            "Step 1801. Batch loss: 0.37761422991752625 Batch accuracy: 0.9375\n",
            "Test accuracy: 0.9442999958992004\n",
            "Step 1901. Batch loss: 0.40609651803970337 Batch accuracy: 0.953125\n",
            "Test accuracy: 0.9452999830245972\n",
            "Step 2001. Batch loss: 0.3841782212257385 Batch accuracy: 0.9453125\n",
            "Test accuracy: 0.9478999972343445\n"
          ]
        }
      ],
      "source": [
        "deepnn(nodes = 512, weight_range = 0.1, train_steps = 2000, learning_rate = 0.1)"
      ]
    },
    {
      "cell_type": "code",
      "execution_count": 24,
      "metadata": {
        "colab": {
          "base_uri": "https://localhost:8080/"
        },
        "id": "9pDjg_fij3Vz",
        "outputId": "df9d657b-57a8-45e9-eac9-a31a26b0d6c2"
      },
      "outputs": [
        {
          "name": "stdout",
          "output_type": "stream",
          "text": [
            "Step 1. Batch loss: 6.81820011138916 Batch accuracy: 0.09375\n",
            "Test accuracy: 0.1388999968767166\n",
            "Step 101. Batch loss: 2.122997283935547 Batch accuracy: 0.125\n",
            "Test accuracy: 0.13429999351501465\n",
            "Step 201. Batch loss: 2.0261688232421875 Batch accuracy: 0.140625\n",
            "Test accuracy: 0.14980000257492065\n",
            "Step 301. Batch loss: 1.9784693717956543 Batch accuracy: 0.171875\n",
            "Test accuracy: 0.16019999980926514\n",
            "Step 401. Batch loss: 1.9379498958587646 Batch accuracy: 0.1796875\n",
            "Test accuracy: 0.20059999823570251\n",
            "Starting new epoch...\n",
            "Step 501. Batch loss: 1.7292367219924927 Batch accuracy: 0.3046875\n",
            "Test accuracy: 0.2890999913215637\n",
            "Step 601. Batch loss: 1.5662492513656616 Batch accuracy: 0.359375\n",
            "Test accuracy: 0.3102000057697296\n",
            "Step 701. Batch loss: 1.5194543600082397 Batch accuracy: 0.3671875\n",
            "Test accuracy: 0.32280001044273376\n",
            "Step 801. Batch loss: 1.5783369541168213 Batch accuracy: 0.359375\n",
            "Test accuracy: 0.3781999945640564\n",
            "Starting new epoch...\n",
            "Step 901. Batch loss: 1.5218944549560547 Batch accuracy: 0.4453125\n",
            "Test accuracy: 0.45669999718666077\n",
            "Step 1001. Batch loss: 1.1773911714553833 Batch accuracy: 0.5390625\n",
            "Test accuracy: 0.5102999806404114\n",
            "Step 1101. Batch loss: 1.2864867448806763 Batch accuracy: 0.4921875\n",
            "Test accuracy: 0.5178999900817871\n",
            "Step 1201. Batch loss: 1.297999382019043 Batch accuracy: 0.515625\n",
            "Test accuracy: 0.529699981212616\n",
            "Step 1301. Batch loss: 1.2130422592163086 Batch accuracy: 0.5\n",
            "Test accuracy: 0.5271000266075134\n",
            "Starting new epoch...\n",
            "Step 1401. Batch loss: 1.2431590557098389 Batch accuracy: 0.5\n",
            "Test accuracy: 0.5292999744415283\n",
            "Step 1501. Batch loss: 1.0965220928192139 Batch accuracy: 0.5859375\n",
            "Test accuracy: 0.5342000126838684\n",
            "Step 1601. Batch loss: 1.2240586280822754 Batch accuracy: 0.5234375\n",
            "Test accuracy: 0.5304999947547913\n",
            "Step 1701. Batch loss: 1.1438809633255005 Batch accuracy: 0.5703125\n",
            "Test accuracy: 0.5672000050544739\n",
            "Step 1801. Batch loss: 1.0675851106643677 Batch accuracy: 0.6171875\n",
            "Test accuracy: 0.6193000078201294\n",
            "Starting new epoch...\n",
            "Step 1901. Batch loss: 0.9384678602218628 Batch accuracy: 0.65625\n",
            "Test accuracy: 0.6248000264167786\n",
            "Step 2001. Batch loss: 0.9347707033157349 Batch accuracy: 0.6796875\n",
            "Test accuracy: 0.6733999848365784\n"
          ]
        }
      ],
      "source": [
        "deepnn(nodes = 256, weight_range = 0.5, train_steps = 2000, learning_rate = 0.1)"
      ]
    },
    {
      "cell_type": "code",
      "execution_count": 28,
      "metadata": {
        "colab": {
          "base_uri": "https://localhost:8080/",
          "height": 1000
        },
        "id": "gcvCEPK_kydj",
        "outputId": "b3f4cd0d-a0c9-43ea-cca7-668471af68e2"
      },
      "outputs": [
        {
          "name": "stdout",
          "output_type": "stream",
          "text": [
            "Step 1. Batch loss: 2.2898104190826416 Batch accuracy: 0.1328125\n",
            "Test accuracy: 0.1437000036239624\n",
            "Step 101. Batch loss: 0.7844666242599487 Batch accuracy: 0.78125\n",
            "Test accuracy: 0.7807000279426575\n",
            "Step 201. Batch loss: 0.6707316637039185 Batch accuracy: 0.8046875\n",
            "Test accuracy: 0.8015999794006348\n",
            "Step 301. Batch loss: 0.7358328700065613 Batch accuracy: 0.7578125\n",
            "Test accuracy: 0.8198000192642212\n",
            "Starting new epoch...\n",
            "Step 401. Batch loss: 0.5800930857658386 Batch accuracy: 0.8125\n",
            "Test accuracy: 0.8245000243186951\n",
            "Step 501. Batch loss: 0.5633695125579834 Batch accuracy: 0.8125\n",
            "Test accuracy: 0.8309999704360962\n",
            "Step 601. Batch loss: 0.4157162308692932 Batch accuracy: 0.8515625\n",
            "Test accuracy: 0.8331000208854675\n",
            "Step 701. Batch loss: 0.5024394989013672 Batch accuracy: 0.84375\n",
            "Test accuracy: 0.8371999859809875\n",
            "Step 801. Batch loss: 0.37625181674957275 Batch accuracy: 0.859375\n",
            "Test accuracy: 0.8353000283241272\n",
            "Starting new epoch...\n",
            "Step 901. Batch loss: 0.5677984952926636 Batch accuracy: 0.8046875\n",
            "Test accuracy: 0.8428000211715698\n",
            "Step 1001. Batch loss: 0.5501298904418945 Batch accuracy: 0.8203125\n",
            "Test accuracy: 0.8442000150680542\n",
            "Step 1101. Batch loss: 0.5701370239257812 Batch accuracy: 0.7890625\n",
            "Test accuracy: 0.8465999960899353\n",
            "Step 1201. Batch loss: 0.42678460478782654 Batch accuracy: 0.859375\n",
            "Test accuracy: 0.8482999801635742\n",
            "Starting new epoch...\n",
            "Step 1301. Batch loss: 0.4362470507621765 Batch accuracy: 0.8359375\n",
            "Test accuracy: 0.8493000268936157\n",
            "Step 1401. Batch loss: 0.33223333954811096 Batch accuracy: 0.875\n",
            "Test accuracy: 0.8500000238418579\n",
            "Step 1501. Batch loss: 0.45450955629348755 Batch accuracy: 0.8359375\n",
            "Test accuracy: 0.8529999852180481\n",
            "Step 1601. Batch loss: 0.3765937089920044 Batch accuracy: 0.875\n",
            "Test accuracy: 0.8539999723434448\n",
            "Step 1701. Batch loss: 0.3279699981212616 Batch accuracy: 0.875\n",
            "Test accuracy: 0.8554999828338623\n",
            "Starting new epoch...\n",
            "Step 1801. Batch loss: 0.4752575755119324 Batch accuracy: 0.8359375\n",
            "Test accuracy: 0.8568999767303467\n",
            "Step 1901. Batch loss: 0.337480366230011 Batch accuracy: 0.875\n",
            "Test accuracy: 0.8593000173568726\n",
            "Step 2001. Batch loss: 0.45691561698913574 Batch accuracy: 0.875\n",
            "Test accuracy: 0.8587999939918518\n",
            "Step 1. Batch loss: 2.3131141662597656 Batch accuracy: 0.0703125\n",
            "Test accuracy: 0.13019999861717224\n",
            "Step 101. Batch loss: 0.9973598718643188 Batch accuracy: 0.7109375\n",
            "Test accuracy: 0.7132999897003174\n",
            "Step 201. Batch loss: 0.6126317977905273 Batch accuracy: 0.8046875\n",
            "Test accuracy: 0.8145999908447266\n",
            "Starting new epoch...\n",
            "Step 301. Batch loss: 0.6315305233001709 Batch accuracy: 0.78125\n",
            "Test accuracy: 0.8245999813079834\n",
            "Step 401. Batch loss: 0.629912793636322 Batch accuracy: 0.8125\n",
            "Test accuracy: 0.8310999870300293\n",
            "Step 501. Batch loss: 0.5643314123153687 Batch accuracy: 0.8203125\n",
            "Test accuracy: 0.8357999920845032\n",
            "Step 601. Batch loss: 0.4382479786872864 Batch accuracy: 0.859375\n",
            "Test accuracy: 0.8406999707221985\n",
            "Step 701. Batch loss: 0.46311843395233154 Batch accuracy: 0.84375\n",
            "Test accuracy: 0.8413000106811523\n",
            "Starting new epoch...\n",
            "Step 801. Batch loss: 0.658321738243103 Batch accuracy: 0.78125\n",
            "Test accuracy: 0.8436999917030334\n",
            "Step 901. Batch loss: 0.39951056241989136 Batch accuracy: 0.8515625\n",
            "Test accuracy: 0.8465999960899353\n",
            "Step 1001. Batch loss: 0.5969393849372864 Batch accuracy: 0.8046875\n",
            "Test accuracy: 0.8499000072479248\n",
            "Step 1101. Batch loss: 0.39163440465927124 Batch accuracy: 0.8359375\n",
            "Test accuracy: 0.8500999808311462\n",
            "Starting new epoch...\n",
            "Step 1201. Batch loss: 0.4926452040672302 Batch accuracy: 0.8359375\n",
            "Test accuracy: 0.8522999882698059\n",
            "Step 1301. Batch loss: 0.5371110439300537 Batch accuracy: 0.8046875\n",
            "Test accuracy: 0.8522999882698059\n",
            "Step 1401. Batch loss: 0.4091060161590576 Batch accuracy: 0.8671875\n",
            "Test accuracy: 0.8553000092506409\n",
            "Step 1501. Batch loss: 0.39161738753318787 Batch accuracy: 0.84375\n",
            "Test accuracy: 0.8568999767303467\n",
            "Step 1601. Batch loss: 0.4306374192237854 Batch accuracy: 0.8671875\n",
            "Test accuracy: 0.8585000038146973\n",
            "Starting new epoch...\n",
            "Step 1701. Batch loss: 0.38792183995246887 Batch accuracy: 0.8671875\n",
            "Test accuracy: 0.8592000007629395\n",
            "Step 1801. Batch loss: 0.29726970195770264 Batch accuracy: 0.9140625\n",
            "Test accuracy: 0.8615000247955322\n",
            "Step 1901. Batch loss: 0.45346957445144653 Batch accuracy: 0.859375\n",
            "Test accuracy: 0.8610000014305115\n",
            "Step 2001. Batch loss: 0.32634425163269043 Batch accuracy: 0.8828125\n",
            "Test accuracy: 0.8622999787330627\n",
            "Step 1. Batch loss: 2.2840688228607178 Batch accuracy: 0.15625\n",
            "Test accuracy: 0.2003999948501587\n",
            "Step 101. Batch loss: 0.6592001914978027 Batch accuracy: 0.84375\n",
            "Test accuracy: 0.8009999990463257\n",
            "Starting new epoch...\n",
            "Step 201. Batch loss: 0.6058822274208069 Batch accuracy: 0.8125\n",
            "Test accuracy: 0.8241000175476074\n",
            "Step 301. Batch loss: 0.4653957784175873 Batch accuracy: 0.8671875\n",
            "Test accuracy: 0.8263999819755554\n",
            "Step 401. Batch loss: 0.4896630048751831 Batch accuracy: 0.8203125\n",
            "Test accuracy: 0.8367000222206116\n",
            "Step 501. Batch loss: 0.3587462604045868 Batch accuracy: 0.8828125\n",
            "Test accuracy: 0.838699996471405\n",
            "Starting new epoch...\n",
            "Step 601. Batch loss: 0.5270060896873474 Batch accuracy: 0.8203125\n",
            "Test accuracy: 0.8417999744415283\n",
            "Step 701. Batch loss: 0.6342183351516724 Batch accuracy: 0.78125\n",
            "Test accuracy: 0.8450999855995178\n",
            "Step 801. Batch loss: 0.582955539226532 Batch accuracy: 0.8203125\n",
            "Test accuracy: 0.8471999764442444\n",
            "Step 901. Batch loss: 0.3399253189563751 Batch accuracy: 0.9140625\n",
            "Test accuracy: 0.8482999801635742\n",
            "Step 1001. Batch loss: 0.4245458245277405 Batch accuracy: 0.8515625\n",
            "Test accuracy: 0.8517000079154968\n",
            "Starting new epoch...\n",
            "Step 1101. Batch loss: 0.40503379702568054 Batch accuracy: 0.859375\n",
            "Test accuracy: 0.8518999814987183\n",
            "Step 1201. Batch loss: 0.33841806650161743 Batch accuracy: 0.890625\n",
            "Test accuracy: 0.8555999994277954\n",
            "Step 1301. Batch loss: 0.43233925104141235 Batch accuracy: 0.828125\n",
            "Test accuracy: 0.8544999957084656\n",
            "Step 1401. Batch loss: 0.36022067070007324 Batch accuracy: 0.875\n",
            "Test accuracy: 0.8578000068664551\n",
            "Step 1501. Batch loss: 0.42361879348754883 Batch accuracy: 0.84375\n",
            "Test accuracy: 0.8569999933242798\n",
            "Starting new epoch...\n",
            "Step 1601. Batch loss: 0.5184680223464966 Batch accuracy: 0.8359375\n",
            "Test accuracy: 0.859499990940094\n",
            "Step 1701. Batch loss: 0.44403183460235596 Batch accuracy: 0.8515625\n",
            "Test accuracy: 0.8600999712944031\n",
            "Step 1801. Batch loss: 0.5134941935539246 Batch accuracy: 0.8359375\n",
            "Test accuracy: 0.8600000143051147\n",
            "Step 1901. Batch loss: 0.4059005379676819 Batch accuracy: 0.84375\n",
            "Test accuracy: 0.862500011920929\n",
            "Starting new epoch...\n",
            "Step 2001. Batch loss: 0.3383467197418213 Batch accuracy: 0.8828125\n",
            "Test accuracy: 0.8626999855041504\n",
            "Step 1. Batch loss: 2.426335573196411 Batch accuracy: 0.109375\n",
            "Test accuracy: 0.14659999310970306\n",
            "Step 101. Batch loss: 0.5344181060791016 Batch accuracy: 0.828125\n",
            "Test accuracy: 0.8931999802589417\n",
            "Step 201. Batch loss: 0.3838769197463989 Batch accuracy: 0.890625\n",
            "Test accuracy: 0.9162999987602234\n",
            "Step 301. Batch loss: 0.3212376534938812 Batch accuracy: 0.875\n",
            "Test accuracy: 0.9254000186920166\n",
            "Step 401. Batch loss: 0.3012452721595764 Batch accuracy: 0.921875\n",
            "Test accuracy: 0.9261000156402588\n",
            "Starting new epoch...\n",
            "Step 501. Batch loss: 0.3431715965270996 Batch accuracy: 0.90625\n",
            "Test accuracy: 0.9359999895095825\n",
            "Step 601. Batch loss: 0.19704443216323853 Batch accuracy: 0.9609375\n",
            "Test accuracy: 0.9351999759674072\n",
            "Step 701. Batch loss: 0.13456308841705322 Batch accuracy: 0.9609375\n",
            "Test accuracy: 0.9419000148773193\n",
            "Step 801. Batch loss: 0.16772450506687164 Batch accuracy: 0.9453125\n",
            "Test accuracy: 0.9449999928474426\n",
            "Step 901. Batch loss: 0.21844393014907837 Batch accuracy: 0.90625\n",
            "Test accuracy: 0.9470999836921692\n",
            "Starting new epoch...\n",
            "Step 1001. Batch loss: 0.10207442939281464 Batch accuracy: 0.9765625\n",
            "Test accuracy: 0.9513000249862671\n",
            "Step 1101. Batch loss: 0.19064578413963318 Batch accuracy: 0.953125\n",
            "Test accuracy: 0.9514999985694885\n",
            "Step 1201. Batch loss: 0.14959412813186646 Batch accuracy: 0.953125\n",
            "Test accuracy: 0.9524000287055969\n",
            "Step 1301. Batch loss: 0.20302920043468475 Batch accuracy: 0.953125\n",
            "Test accuracy: 0.9556999802589417\n",
            "Starting new epoch...\n",
            "Step 1401. Batch loss: 0.18176981806755066 Batch accuracy: 0.9375\n",
            "Test accuracy: 0.9545000195503235\n",
            "Step 1501. Batch loss: 0.12982302904129028 Batch accuracy: 0.953125\n",
            "Test accuracy: 0.9569000005722046\n",
            "Step 1601. Batch loss: 0.1226072907447815 Batch accuracy: 0.9609375\n",
            "Test accuracy: 0.9589999914169312\n",
            "Step 1701. Batch loss: 0.1384871006011963 Batch accuracy: 0.953125\n",
            "Test accuracy: 0.9592999815940857\n",
            "Step 1801. Batch loss: 0.16063682734966278 Batch accuracy: 0.9609375\n",
            "Test accuracy: 0.9607999920845032\n",
            "Starting new epoch...\n",
            "Step 1901. Batch loss: 0.11479126662015915 Batch accuracy: 0.96875\n",
            "Test accuracy: 0.9629999995231628\n",
            "Step 2001. Batch loss: 0.09303699433803558 Batch accuracy: 0.9765625\n",
            "Test accuracy: 0.9627000093460083\n"
          ]
        },
        {
          "data": {
            "text/plain": [
              "[<matplotlib.lines.Line2D at 0x78eb03c20910>]"
            ]
          },
          "execution_count": 28,
          "metadata": {},
          "output_type": "execute_result"
        },
        {
          "data": {
            "image/png": "[encoded data removed]",
            "text/plain": [
              "<Figure size 640x480 with 1 Axes>"
            ]
          },
          "metadata": {},
          "output_type": "display_data"
        }
      ],
      "source": [
        "acc = []\n",
        "node_nr = [128,256,512,1024]\n",
        "for node in node_nr:\n",
        "    acc.append(deepnn(nodes = node, weight_range = 0.1, train_steps = 2000, learning_rate = 0.1))\n",
        "plt.plot(acc,node_nr)"
      ]
    },
    {
      "cell_type": "code",
      "execution_count": 29,
      "metadata": {
        "colab": {
          "base_uri": "https://localhost:8080/",
          "height": 447
        },
        "id": "iX5Xwm5sp5Oa",
        "outputId": "78001f51-8f5a-4b46-cf7e-daff976ee3e5"
      },
      "outputs": [
        {
          "data": {
            "text/plain": [
              "<matplotlib.collections.PathCollection at 0x78eaf15930d0>"
            ]
          },
          "execution_count": 29,
          "metadata": {},
          "output_type": "execute_result"
        },
        {
          "data": {
            "image/png": "[encoded data removed]",
            "text/plain": [
              "<Figure size 640x480 with 1 Axes>"
            ]
          },
          "metadata": {},
          "output_type": "display_data"
        }
      ],
      "source": [
        "plt.scatter(acc,node_nr)"
      ]
    },
    {
      "cell_type": "code",
      "execution_count": null,
      "metadata": {
        "id": "SHdhssx3rD2n"
      },
      "outputs": [],
      "source": []
    }
  ],
  "metadata": {
    "colab": {
      "provenance": [],
      "toc_visible": true
    },
    "kernelspec": {
      "display_name": "Python 3",
      "name": "python3"
    },
    "language_info": {
      "name": "python"
    }
  },
  "nbformat": 4,
  "nbformat_minor": 0
}
