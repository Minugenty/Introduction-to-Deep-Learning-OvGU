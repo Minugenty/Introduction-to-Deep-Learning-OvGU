{
  "cells": [
    {
      "cell_type": "markdown",
      "metadata": {
        "id": "3VZ9poLQMtDV"
      },
      "source": [
        "# Assignment 3 - Keras and CNN"
      ]
    },
    {
      "cell_type": "markdown",
      "metadata": {
        "id": "0NJhVw0kP938"
      },
      "source": [
        "# CNN on MNIST with Keras"
      ]
    },
    {
      "cell_type": "code",
      "execution_count": 1,
      "metadata": {
        "id": "1MQKgboLMjvy"
      },
      "outputs": [],
      "source": [
        "import tensorflow as tf\n",
        "import numpy as np\n",
        "import matplotlib.pyplot as plt"
      ]
    },
    {
      "cell_type": "code",
      "execution_count": 2,
      "metadata": {
        "colab": {
          "base_uri": "https://localhost:8080/",
          "height": 499
        },
        "id": "jK2df7EiP3dg",
        "outputId": "71c3ab62-4daa-456a-82e6-e11b6f01af30"
      },
      "outputs": [
        {
          "name": "stdout",
          "output_type": "stream",
          "text": [
            "Downloading data from https://storage.googleapis.com/tensorflow/tf-keras-datasets/mnist.npz\n",
            "11490434/11490434 [==============================] - 0s 0us/step\n",
            "5\n"
          ]
        },
        {
          "data": {
            "text/plain": [
              "<matplotlib.image.AxesImage at 0x7bd5be2ce860>"
            ]
          },
          "execution_count": 2,
          "metadata": {},
          "output_type": "execute_result"
        },
        {
          "data": {
            "image/png": "[encoded data removed]",
            "text/plain": [
              "<Figure size 640x480 with 1 Axes>"
            ]
          },
          "metadata": {},
          "output_type": "display_data"
        }
      ],
      "source": [
        "# load data\n",
        "mnist = tf.keras.datasets.mnist\n",
        "(train_images, train_labels), (test_images, test_labels) = mnist.load_data()\n",
        "\n",
        "print(train_labels[0])\n",
        "plt.imshow(train_images[0], cmap=\"Greys_r\")"
      ]
    },
    {
      "cell_type": "code",
      "execution_count": 3,
      "metadata": {
        "id": "Hk7FauB2Qrwq"
      },
      "outputs": [],
      "source": [
        "# data is not reshaped to 784 anymore, but 28x28x1\n",
        "# the 1 color channel!! this is important\n",
        "train_data = tf.data.Dataset.from_tensor_slices(\n",
        "    (train_images.reshape([-1, 28, 28, 1]).astype(np.float32) / 255, train_labels.astype(np.int32)))\n",
        "train_data = train_data.shuffle(buffer_size=60000).batch(128).repeat()\n",
        "\n",
        "test_data = tf.data.Dataset.from_tensor_slices(\n",
        "    (test_images.reshape([-1, 28, 28, 1]).astype(np.float32) / 255, test_labels.astype(np.int32))).batch(128)"
      ]
    },
    {
      "cell_type": "code",
      "execution_count": 4,
      "metadata": {
        "colab": {
          "base_uri": "https://localhost:8080/"
        },
        "id": "UQxJlxybSiXl",
        "outputId": "ead6e92a-801e-4a09-fa78-9b66b9e6adda"
      },
      "outputs": [
        {
          "name": "stdout",
          "output_type": "stream",
          "text": [
            "Model: \"sequential\"\n",
            "_________________________________________________________________\n",
            " Layer (type)                Output Shape              Param #   \n",
            "=================================================================\n",
            " conv_1 (Conv2D)             (None, 28, 28, 32)        320       \n",
            "                                                                 \n",
            " conv_2 (Conv2D)             (None, 28, 28, 64)        18496     \n",
            "                                                                 \n",
            " maxpool_1 (MaxPooling2D)    (None, 14, 14, 64)        0         \n",
            "                                                                 \n",
            " conv_3 (Conv2D)             (None, 14, 14, 128)       73856     \n",
            "                                                                 \n",
            " maxpool_2 (MaxPooling2D)    (None, 7, 7, 128)         0         \n",
            "                                                                 \n",
            " flatten (Flatten)           (None, 6272)              0         \n",
            "                                                                 \n",
            " dense (Dense)               (None, 128)               802944    \n",
            "                                                                 \n",
            " dense_1 (Dense)             (None, 10)                1290      \n",
            "                                                                 \n",
            "=================================================================\n",
            "Total params: 896906 (3.42 MB)\n",
            "Trainable params: 896906 (3.42 MB)\n",
            "Non-trainable params: 0 (0.00 Byte)\n",
            "_________________________________________________________________\n"
          ]
        }
      ],
      "source": [
        "train_steps = 2000\n",
        "\n",
        "model = tf.keras.Sequential([\n",
        "    tf.keras.layers.Conv2D(filters = 32, kernel_size=(3, 3), padding = \"same\", activation=tf.nn.relu, name = \"conv_1\", input_shape = (28, 28, 1)),\n",
        "    tf.keras.layers.Conv2D(filters = 64, kernel_size=(3, 3), padding = \"same\", activation=tf.nn.relu, name = \"conv_2\"),\n",
        "    tf.keras.layers.MaxPool2D(pool_size=(2,2), name=\"maxpool_1\"),\n",
        "    tf.keras.layers.Conv2D(filters = 128, kernel_size=(3, 3), padding = \"same\", activation=tf.nn.relu, name = \"conv_3\"),\n",
        "    tf.keras.layers.MaxPool2D(pool_size=(2,2), name=\"maxpool_2\"),\n",
        "    tf.keras.layers.Flatten(),\n",
        "    tf.keras.layers.Dense(128, activation=tf.nn.relu),\n",
        "    tf.keras.layers.Dense(10)\n",
        "])\n",
        "\n",
        "# Adam makes things much smoother\n",
        "optimizer = tf.optimizers.Adam()\n",
        "# from_logits = True!! #neverforget\n",
        "loss_fn = tf.losses.SparseCategoricalCrossentropy(from_logits=True)\n",
        "\n",
        "model.summary()"
      ]
    },
    {
      "cell_type": "code",
      "execution_count": 5,
      "metadata": {
        "colab": {
          "base_uri": "https://localhost:8080/"
        },
        "id": "7YWkZJsvWO3X",
        "outputId": "c5afcee8-d226-483c-d9c1-447a3f461f06"
      },
      "outputs": [
        {
          "name": "stderr",
          "output_type": "stream",
          "text": [
            "WARNING:tensorflow:5 out of the last 5 calls to <function _BaseOptimizer._update_step_xla at 0x7bd5b8a8c9d0> triggered tf.function retracing. Tracing is expensive and the excessive number of tracings could be due to (1) creating @tf.function repeatedly in a loop, (2) passing tensors with different shapes, (3) passing Python objects instead of tensors. For (1), please define your @tf.function outside of the loop. For (2), @tf.function has reduce_retracing=True option that can avoid unnecessary retracing. For (3), please refer to https://www.tensorflow.org/guide/function#controlling_retracing and https://www.tensorflow.org/api_docs/python/tf/function for  more details.\n",
            "WARNING:tensorflow:6 out of the last 6 calls to <function _BaseOptimizer._update_step_xla at 0x7bd5b8a8c9d0> triggered tf.function retracing. Tracing is expensive and the excessive number of tracings could be due to (1) creating @tf.function repeatedly in a loop, (2) passing tensors with different shapes, (3) passing Python objects instead of tensors. For (1), please define your @tf.function outside of the loop. For (2), @tf.function has reduce_retracing=True option that can avoid unnecessary retracing. For (3), please refer to https://www.tensorflow.org/guide/function#controlling_retracing and https://www.tensorflow.org/api_docs/python/tf/function for  more details.\n"
          ]
        },
        {
          "name": "stdout",
          "output_type": "stream",
          "text": [
            "Loss: 2.30788254737854 Accuracy: 0.0859375\n",
            "Loss: 0.12049482017755508 Accuracy: 0.8804687261581421\n",
            "Loss: 0.08594903349876404 Accuracy: 0.9673437476158142\n",
            "Loss: 0.03273867815732956 Accuracy: 0.9779687523841858\n",
            "Loss: 0.08172497153282166 Accuracy: 0.979296863079071\n",
            "Loss: 0.039994750171899796 Accuracy: 0.9844141602516174\n",
            "Loss: 0.034519489854574203 Accuracy: 0.9882031083106995\n",
            "Loss: 0.09444170445203781 Accuracy: 0.9867968559265137\n",
            "Loss: 0.03244532272219658 Accuracy: 0.9879687428474426\n",
            "Loss: 0.010296731255948544 Accuracy: 0.9879687428474426\n",
            "Loss: 0.018515627831220627 Accuracy: 0.9906798005104065\n",
            "Loss: 0.020319871604442596 Accuracy: 0.9912499785423279\n",
            "Loss: 0.017893966287374496 Accuracy: 0.9903905987739563\n",
            "Loss: 0.03626560419797897 Accuracy: 0.9903125166893005\n",
            "Loss: 0.021994851529598236 Accuracy: 0.9925781488418579\n",
            "Loss: 0.01656433939933777 Accuracy: 0.9956140518188477\n",
            "Loss: 0.007998624816536903 Accuracy: 0.9939062595367432\n",
            "Loss: 0.014338366687297821 Accuracy: 0.9934375286102295\n",
            "Loss: 0.014589782804250717 Accuracy: 0.9944531321525574\n",
            "Loss: 0.0025576509069651365 Accuracy: 0.9935777187347412\n",
            "Loss: 0.006306955590844154 Accuracy: 0.9967187643051147\n"
          ]
        }
      ],
      "source": [
        "train_acc_metric = tf.keras.metrics.SparseCategoricalAccuracy()\n",
        "\n",
        "for step, (image_batch, label_batch) in enumerate(train_data):\n",
        "    if step > train_steps:\n",
        "        break\n",
        "\n",
        "    with tf.GradientTape() as tape:\n",
        "        logits = model(image_batch)\n",
        "        # loss format is generally: first argument targets, second argument outputs\n",
        "        loss = loss_fn(label_batch, logits)\n",
        "\n",
        "    # if you didn't build the model, it is important that you get the variables\n",
        "    # AFTER the model has been called the first time\n",
        "    variables = model.trainable_variables\n",
        "    gradients = tape.gradient(loss, variables)\n",
        "\n",
        "    optimizer.apply_gradients(zip(gradients, variables))\n",
        "\n",
        "    train_acc_metric(label_batch, logits)\n",
        "\n",
        "    if not step % 100:\n",
        "        # this is different from before. there, we only evaluated accuracy\n",
        "        # for one batch. Now, we always average over 100 batches\n",
        "        print(\"Loss: {} Accuracy: {}\".format(loss, train_acc_metric.result()))\n",
        "        train_acc_metric.reset_states()"
      ]
    },
    {
      "cell_type": "code",
      "execution_count": 6,
      "metadata": {
        "colab": {
          "base_uri": "https://localhost:8080/"
        },
        "id": "pC-Dn3bFYtF7",
        "outputId": "fbcdd1e1-70c3-49e5-faa9-30878a5f88d8"
      },
      "outputs": [
        {
          "name": "stdout",
          "output_type": "stream",
          "text": [
            "Test acc: 0.9922000169754028\n"
          ]
        }
      ],
      "source": [
        "test_acc_metric = tf.keras.metrics.SparseCategoricalAccuracy()\n",
        "for image_batch, label_batch in test_data:\n",
        "    test_acc_metric(label_batch, model(image_batch))\n",
        "print(\"Test acc: {}\".format(test_acc_metric.result()))"
      ]
    },
    {
      "cell_type": "markdown",
      "metadata": {
        "id": "ufZkZyRid_4f"
      },
      "source": [
        "# CNN on Fashion-MNIST with Keras"
      ]
    },
    {
      "cell_type": "code",
      "execution_count": 7,
      "metadata": {
        "colab": {
          "base_uri": "https://localhost:8080/",
          "height": 604
        },
        "id": "cjbtUuDSeEYd",
        "outputId": "c73a8b64-4a02-4854-d808-6c71e4cdf164"
      },
      "outputs": [
        {
          "name": "stdout",
          "output_type": "stream",
          "text": [
            "Downloading data from https://storage.googleapis.com/tensorflow/tf-keras-datasets/train-labels-idx1-ubyte.gz\n",
            "29515/29515 [==============================] - 0s 0us/step\n",
            "Downloading data from https://storage.googleapis.com/tensorflow/tf-keras-datasets/train-images-idx3-ubyte.gz\n",
            "26421880/26421880 [==============================] - 0s 0us/step\n",
            "Downloading data from https://storage.googleapis.com/tensorflow/tf-keras-datasets/t10k-labels-idx1-ubyte.gz\n",
            "5148/5148 [==============================] - 0s 0us/step\n",
            "Downloading data from https://storage.googleapis.com/tensorflow/tf-keras-datasets/t10k-images-idx3-ubyte.gz\n",
            "4422102/4422102 [==============================] - 0s 0us/step\n",
            "9\n"
          ]
        },
        {
          "data": {
            "text/plain": [
              "<matplotlib.image.AxesImage at 0x7bd5b6ff7f10>"
            ]
          },
          "execution_count": 7,
          "metadata": {},
          "output_type": "execute_result"
        },
        {
          "data": {
            "image/png": "[encoded data removed]",
            "text/plain": [
              "<Figure size 640x480 with 1 Axes>"
            ]
          },
          "metadata": {},
          "output_type": "display_data"
        }
      ],
      "source": [
        "# load data\n",
        "fmnist = tf.keras.datasets.fashion_mnist\n",
        "(train_images, train_labels), (test_images, test_labels) = fmnist.load_data()\n",
        "\n",
        "print(train_labels[0])\n",
        "plt.imshow(train_images[0], cmap=\"Greys_r\")"
      ]
    },
    {
      "cell_type": "code",
      "execution_count": 8,
      "metadata": {
        "colab": {
          "base_uri": "https://localhost:8080/"
        },
        "id": "P015gLDLh-BE",
        "outputId": "8fdea20e-09da-4d62-fe5b-2f0c0edc086b"
      },
      "outputs": [
        {
          "name": "stdout",
          "output_type": "stream",
          "text": [
            "(60000, 28, 28)\n",
            "(60000,)\n",
            "(10000, 28, 28)\n",
            "(10000,)\n"
          ]
        }
      ],
      "source": [
        "print(train_images.shape)\n",
        "print(train_labels.shape)\n",
        "print(test_images.shape)\n",
        "print(test_labels.shape)"
      ]
    },
    {
      "cell_type": "code",
      "execution_count": 9,
      "metadata": {
        "id": "mtE8M64tiAox"
      },
      "outputs": [],
      "source": [
        "# data is not reshaped to 784 anymore, but 28x28x1\n",
        "# the 1 color channel!! this is important\n",
        "train_data = tf.data.Dataset.from_tensor_slices(\n",
        "    (train_images.reshape([-1, 28, 28, 1]).astype(np.float32) / 255, train_labels.astype(np.int32)))\n",
        "train_data = train_data.shuffle(buffer_size=60000).batch(128).repeat()\n",
        "\n",
        "test_data = tf.data.Dataset.from_tensor_slices(\n",
        "    (test_images.reshape([-1, 28, 28, 1]).astype(np.float32) / 255, test_labels.astype(np.int32))).batch(128)"
      ]
    },
    {
      "cell_type": "code",
      "execution_count": 10,
      "metadata": {
        "colab": {
          "base_uri": "https://localhost:8080/"
        },
        "id": "FUdqNhkiiRI9",
        "outputId": "bc21aa98-2fbf-4bf2-f067-478d359062fb"
      },
      "outputs": [
        {
          "name": "stdout",
          "output_type": "stream",
          "text": [
            "Model: \"sequential_1\"\n",
            "_________________________________________________________________\n",
            " Layer (type)                Output Shape              Param #   \n",
            "=================================================================\n",
            " conv_1 (Conv2D)             (None, 28, 28, 32)        320       \n",
            "                                                                 \n",
            " conv_2 (Conv2D)             (None, 28, 28, 64)        18496     \n",
            "                                                                 \n",
            " maxpool_1 (MaxPooling2D)    (None, 14, 14, 64)        0         \n",
            "                                                                 \n",
            " conv_3 (Conv2D)             (None, 14, 14, 128)       73856     \n",
            "                                                                 \n",
            " maxpool_2 (MaxPooling2D)    (None, 7, 7, 128)         0         \n",
            "                                                                 \n",
            " flatten_1 (Flatten)         (None, 6272)              0         \n",
            "                                                                 \n",
            " dense_2 (Dense)             (None, 128)               802944    \n",
            "                                                                 \n",
            " dense_3 (Dense)             (None, 10)                1290      \n",
            "                                                                 \n",
            "=================================================================\n",
            "Total params: 896906 (3.42 MB)\n",
            "Trainable params: 896906 (3.42 MB)\n",
            "Non-trainable params: 0 (0.00 Byte)\n",
            "_________________________________________________________________\n"
          ]
        }
      ],
      "source": [
        "train_steps = 2000\n",
        "\n",
        "model = tf.keras.Sequential([\n",
        "    tf.keras.layers.Conv2D(filters = 32, kernel_size=(3, 3), padding = \"same\", activation=tf.nn.relu, name = \"conv_1\", input_shape = (28, 28, 1)),\n",
        "    tf.keras.layers.Conv2D(filters = 64, kernel_size=(3, 3), padding = \"same\", activation=tf.nn.relu, name = \"conv_2\"),\n",
        "    tf.keras.layers.MaxPool2D(pool_size=(2,2), name=\"maxpool_1\"),\n",
        "    tf.keras.layers.Conv2D(filters = 128, kernel_size=(3, 3), padding = \"same\", activation=tf.nn.relu, name = \"conv_3\"),\n",
        "    tf.keras.layers.MaxPool2D(pool_size=(2,2), name=\"maxpool_2\"),\n",
        "    tf.keras.layers.Flatten(),\n",
        "    tf.keras.layers.Dense(128, activation=tf.nn.relu),\n",
        "    tf.keras.layers.Dense(10)\n",
        "])\n",
        "\n",
        "# Adam makes things much smoother\n",
        "optimizer = tf.optimizers.Adam()\n",
        "# from_logits = True!! #neverforget\n",
        "loss_fn = tf.losses.SparseCategoricalCrossentropy(from_logits=True)\n",
        "\n",
        "model.summary()"
      ]
    },
    {
      "cell_type": "code",
      "execution_count": 11,
      "metadata": {
        "colab": {
          "base_uri": "https://localhost:8080/"
        },
        "id": "qYzfffp3iVsN",
        "outputId": "fc0d3522-8c57-4142-ba34-51547bebe66a"
      },
      "outputs": [
        {
          "name": "stdout",
          "output_type": "stream",
          "text": [
            "Loss: 2.299467086791992 Accuracy: 0.140625\n",
            "Loss: 0.49667584896087646 Accuracy: 0.757031261920929\n",
            "Loss: 0.4230605363845825 Accuracy: 0.8573437333106995\n",
            "Loss: 0.2995346784591675 Accuracy: 0.8726562261581421\n",
            "Loss: 0.3138021230697632 Accuracy: 0.8875781297683716\n",
            "Loss: 0.29194939136505127 Accuracy: 0.8968514800071716\n",
            "Loss: 0.2453336864709854 Accuracy: 0.9055469036102295\n",
            "Loss: 0.27008959650993347 Accuracy: 0.907421886920929\n",
            "Loss: 0.2730228304862976 Accuracy: 0.9129687547683716\n",
            "Loss: 0.22978344559669495 Accuracy: 0.9139843583106995\n",
            "Loss: 0.1812775582075119 Accuracy: 0.9244987368583679\n",
            "Loss: 0.19839775562286377 Accuracy: 0.9216406345367432\n",
            "Loss: 0.16981813311576843 Accuracy: 0.9253125190734863\n",
            "Loss: 0.23413342237472534 Accuracy: 0.9311718940734863\n",
            "Loss: 0.19653330743312836 Accuracy: 0.9271875023841858\n",
            "Loss: 0.22894348204135895 Accuracy: 0.9384398460388184\n",
            "Loss: 0.15766581892967224 Accuracy: 0.9371093511581421\n",
            "Loss: 0.10780102759599686 Accuracy: 0.9389843940734863\n",
            "Loss: 0.26365038752555847 Accuracy: 0.9375\n",
            "Loss: 0.05283737927675247 Accuracy: 0.9448621273040771\n",
            "Loss: 0.19289140403270721 Accuracy: 0.9482812285423279\n"
          ]
        }
      ],
      "source": [
        "train_acc_metric = tf.keras.metrics.SparseCategoricalAccuracy()\n",
        "\n",
        "for step, (image_batch, label_batch) in enumerate(train_data):\n",
        "    if step > train_steps:\n",
        "        break\n",
        "\n",
        "    with tf.GradientTape() as tape:\n",
        "        logits = model(image_batch)\n",
        "        # loss format is generally: first argument targets, second argument outputs\n",
        "        loss = loss_fn(label_batch, logits)\n",
        "\n",
        "    # if you didn't build the model, it is important that you get the variables\n",
        "    # AFTER the model has been called the first time\n",
        "    variables = model.trainable_variables\n",
        "    gradients = tape.gradient(loss, variables)\n",
        "\n",
        "    optimizer.apply_gradients(zip(gradients, variables))\n",
        "\n",
        "    train_acc_metric(label_batch, logits)\n",
        "\n",
        "    if not step % 100:\n",
        "        # this is different from before. there, we only evaluated accuracy\n",
        "        # for one batch. Now, we always average over 100 batches\n",
        "        print(\"Loss: {} Accuracy: {}\".format(loss, train_acc_metric.result()))\n",
        "        train_acc_metric.reset_states()"
      ]
    },
    {
      "cell_type": "code",
      "execution_count": 12,
      "metadata": {
        "colab": {
          "base_uri": "https://localhost:8080/"
        },
        "id": "RPYEBYtRiWvs",
        "outputId": "3928ab3b-a8a6-42a8-fed5-14c27a49c30e"
      },
      "outputs": [
        {
          "name": "stdout",
          "output_type": "stream",
          "text": [
            "Test acc: 0.9214000105857849\n"
          ]
        }
      ],
      "source": [
        "test_acc_metric = tf.keras.metrics.SparseCategoricalAccuracy()\n",
        "for image_batch, label_batch in test_data:\n",
        "    test_acc_metric(label_batch, model(image_batch))\n",
        "print(\"Test acc: {}\".format(test_acc_metric.result()))"
      ]
    },
    {
      "cell_type": "markdown",
      "metadata": {
        "id": "0jOvzUPQiarX"
      },
      "source": [
        "# CNN on CIFAR-10"
      ]
    },
    {
      "cell_type": "code",
      "execution_count": 13,
      "metadata": {
        "colab": {
          "base_uri": "https://localhost:8080/",
          "height": 499
        },
        "id": "Qrf24S3Fifww",
        "outputId": "3a93e79c-7049-4e6e-e75d-949d5fa878c1"
      },
      "outputs": [
        {
          "name": "stdout",
          "output_type": "stream",
          "text": [
            "Downloading data from https://www.cs.toronto.edu/~kriz/cifar-10-python.tar.gz\n",
            "170498071/170498071 [==============================] - 5s 0us/step\n",
            "[6]\n"
          ]
        },
        {
          "data": {
            "text/plain": [
              "<matplotlib.image.AxesImage at 0x7bd5b05e9f90>"
            ]
          },
          "execution_count": 13,
          "metadata": {},
          "output_type": "execute_result"
        },
        {
          "data": {
            "image/png": "[encoded data removed]",
            "text/plain": [
              "<Figure size 640x480 with 1 Axes>"
            ]
          },
          "metadata": {},
          "output_type": "display_data"
        }
      ],
      "source": [
        "cifar = tf.keras.datasets.cifar10\n",
        "(train_images, train_labels), (test_images, test_labels) = cifar.load_data()\n",
        "\n",
        "print(train_labels[0])\n",
        "plt.imshow(train_images[0], cmap=\"Greys_r\")"
      ]
    },
    {
      "cell_type": "code",
      "execution_count": 14,
      "metadata": {
        "colab": {
          "base_uri": "https://localhost:8080/"
        },
        "id": "ent3Tw8dis7h",
        "outputId": "80ae26ee-f21b-4b36-99c6-098e4caa6916"
      },
      "outputs": [
        {
          "name": "stdout",
          "output_type": "stream",
          "text": [
            "(50000, 32, 32, 3)\n",
            "(50000, 1)\n",
            "(10000, 32, 32, 3)\n",
            "(10000, 1)\n"
          ]
        }
      ],
      "source": [
        "print(train_images.shape)\n",
        "print(train_labels.shape)\n",
        "print(test_images.shape)\n",
        "print(test_labels.shape)"
      ]
    },
    {
      "cell_type": "code",
      "execution_count": 16,
      "metadata": {
        "id": "HjK5gHsKi0_X"
      },
      "outputs": [],
      "source": [
        "train_data = tf.data.Dataset.from_tensor_slices(\n",
        "    (train_images.reshape([-1, 32, 32, 3]).astype(np.float32) / 255, train_labels.astype(np.int32)))\n",
        "train_data = train_data.shuffle(buffer_size=60000).batch(128).repeat()\n",
        "\n",
        "test_data = tf.data.Dataset.from_tensor_slices(\n",
        "    (test_images.reshape([-1, 32, 32, 3]).astype(np.float32) / 255, test_labels.astype(np.int32))).batch(128)"
      ]
    },
    {
      "cell_type": "markdown",
      "metadata": {
        "id": "h5sgPL_jM2oT"
      },
      "source": [
        "## Basic Setting"
      ]
    },
    {
      "cell_type": "code",
      "execution_count": 21,
      "metadata": {
        "colab": {
          "base_uri": "https://localhost:8080/"
        },
        "id": "QFdXR2xRjmUw",
        "outputId": "22e16489-3190-41d8-b669-68324c38ca9c"
      },
      "outputs": [
        {
          "name": "stdout",
          "output_type": "stream",
          "text": [
            "Model: \"sequential_3\"\n",
            "_________________________________________________________________\n",
            " Layer (type)                Output Shape              Param #   \n",
            "=================================================================\n",
            " conv_1 (Conv2D)             (None, 32, 32, 32)        896       \n",
            "                                                                 \n",
            " conv_2 (Conv2D)             (None, 32, 32, 64)        18496     \n",
            "                                                                 \n",
            " maxpool_1 (MaxPooling2D)    (None, 16, 16, 64)        0         \n",
            "                                                                 \n",
            " conv_3 (Conv2D)             (None, 16, 16, 128)       73856     \n",
            "                                                                 \n",
            " maxpool_2 (MaxPooling2D)    (None, 8, 8, 128)         0         \n",
            "                                                                 \n",
            " flatten_3 (Flatten)         (None, 8192)              0         \n",
            "                                                                 \n",
            " dense_6 (Dense)             (None, 128)               1048704   \n",
            "                                                                 \n",
            " dense_7 (Dense)             (None, 10)                1290      \n",
            "                                                                 \n",
            "=================================================================\n",
            "Total params: 1143242 (4.36 MB)\n",
            "Trainable params: 1143242 (4.36 MB)\n",
            "Non-trainable params: 0 (0.00 Byte)\n",
            "_________________________________________________________________\n"
          ]
        }
      ],
      "source": [
        "train_steps = 2000\n",
        "\n",
        "model = tf.keras.Sequential([\n",
        "    tf.keras.layers.Conv2D(filters = 32, kernel_size=(3, 3), padding = \"same\", activation=tf.nn.relu, name = \"conv_1\", input_shape = (32, 32, 3)),\n",
        "    tf.keras.layers.Conv2D(filters = 64, kernel_size=(3, 3), padding = \"same\", activation=tf.nn.relu, name = \"conv_2\"),\n",
        "    tf.keras.layers.MaxPool2D(pool_size=(2,2), name=\"maxpool_1\"),\n",
        "    tf.keras.layers.Conv2D(filters = 128, kernel_size=(3, 3), padding = \"same\", activation=tf.nn.relu, name = \"conv_3\"),\n",
        "    tf.keras.layers.MaxPool2D(pool_size=(2,2), name=\"maxpool_2\"),\n",
        "    tf.keras.layers.Flatten(),\n",
        "    tf.keras.layers.Dense(128, activation=tf.nn.relu),\n",
        "    tf.keras.layers.Dense(10)\n",
        "])\n",
        "\n",
        "# Adam makes things much smoother\n",
        "optimizer = tf.optimizers.Adam()\n",
        "# from_logits = True!! #neverforget\n",
        "loss_fn = tf.losses.SparseCategoricalCrossentropy(from_logits=True)\n",
        "\n",
        "model.summary()"
      ]
    },
    {
      "cell_type": "code",
      "execution_count": 18,
      "metadata": {
        "colab": {
          "base_uri": "https://localhost:8080/"
        },
        "id": "fgMwa-r5kGHd",
        "outputId": "a93bdb2c-ba2c-4b2c-c5a2-4dd4b6e042f9"
      },
      "outputs": [
        {
          "name": "stdout",
          "output_type": "stream",
          "text": [
            "Loss: 2.313772201538086 Accuracy: 0.0625\n",
            "Loss: 1.6119433641433716 Accuracy: 0.36265623569488525\n",
            "Loss: 1.2534593343734741 Accuracy: 0.49937498569488525\n",
            "Loss: 1.0956857204437256 Accuracy: 0.560546875\n",
            "Loss: 0.9528722763061523 Accuracy: 0.6176286339759827\n",
            "Loss: 0.8539584279060364 Accuracy: 0.6560156345367432\n",
            "Loss: 0.9738563299179077 Accuracy: 0.6673437356948853\n",
            "Loss: 0.8881906867027283 Accuracy: 0.6867969036102295\n",
            "Loss: 0.937796413898468 Accuracy: 0.7085162997245789\n",
            "Loss: 0.7728348970413208 Accuracy: 0.7258594036102295\n",
            "Loss: 0.5797577500343323 Accuracy: 0.7264062762260437\n",
            "Loss: 0.9365914463996887 Accuracy: 0.733203113079071\n",
            "Loss: 0.7955054044723511 Accuracy: 0.7372961044311523\n",
            "Loss: 0.6278781294822693 Accuracy: 0.7642187476158142\n",
            "Loss: 0.799414873123169 Accuracy: 0.7649999856948853\n",
            "Loss: 0.6722870469093323 Accuracy: 0.7702343463897705\n",
            "Loss: 0.4305873215198517 Accuracy: 0.7819165587425232\n",
            "Loss: 0.39597874879837036 Accuracy: 0.7997656464576721\n",
            "Loss: 0.5812735557556152 Accuracy: 0.7994531393051147\n",
            "Loss: 0.6177864074707031 Accuracy: 0.7995312213897705\n",
            "Loss: 0.5232319235801697 Accuracy: 0.816185712814331\n"
          ]
        }
      ],
      "source": [
        "train_acc_metric = tf.keras.metrics.SparseCategoricalAccuracy()\n",
        "\n",
        "for step, (image_batch, label_batch) in enumerate(train_data):\n",
        "    if step > train_steps:\n",
        "        break\n",
        "\n",
        "    with tf.GradientTape() as tape:\n",
        "        logits = model(image_batch)\n",
        "        # loss format is generally: first argument targets, second argument outputs\n",
        "        loss = loss_fn(label_batch, logits)\n",
        "\n",
        "    # if you didn't build the model, it is important that you get the variables\n",
        "    # AFTER the model has been called the first time\n",
        "    variables = model.trainable_variables\n",
        "    gradients = tape.gradient(loss, variables)\n",
        "\n",
        "    optimizer.apply_gradients(zip(gradients, variables))\n",
        "\n",
        "    train_acc_metric(label_batch, logits)\n",
        "\n",
        "    if not step % 100:\n",
        "        # this is different from before. there, we only evaluated accuracy\n",
        "        # for one batch. Now, we always average over 100 batches\n",
        "        print(\"Loss: {} Accuracy: {}\".format(loss, train_acc_metric.result()))\n",
        "        train_acc_metric.reset_states()"
      ]
    },
    {
      "cell_type": "code",
      "execution_count": 19,
      "metadata": {
        "colab": {
          "base_uri": "https://localhost:8080/"
        },
        "id": "BUHrpMtoJqMy",
        "outputId": "4554a7a4-214e-4442-d831-5340042e6cec"
      },
      "outputs": [
        {
          "name": "stdout",
          "output_type": "stream",
          "text": [
            "Test acc: 0.751800000667572\n"
          ]
        }
      ],
      "source": [
        "test_acc_metric = tf.keras.metrics.SparseCategoricalAccuracy()\n",
        "for image_batch, label_batch in test_data:\n",
        "    test_acc_metric(label_batch, model(image_batch))\n",
        "print(\"Test acc: {}\".format(test_acc_metric.result()))"
      ]
    },
    {
      "cell_type": "markdown",
      "metadata": {
        "id": "YKiyaq3PLxR_"
      },
      "source": [
        "## Increased Epochs"
      ]
    },
    {
      "cell_type": "code",
      "execution_count": 20,
      "metadata": {
        "colab": {
          "base_uri": "https://localhost:8080/"
        },
        "id": "et3UY2aaKB93",
        "outputId": "57da51fc-8bda-4339-f71b-cecb5742f58e"
      },
      "outputs": [
        {
          "name": "stdout",
          "output_type": "stream",
          "text": [
            "Epoch 0\n",
            "Loss: 0.3578989803791046 Accuracy: 0.8984375\n",
            "Loss: 0.4886166751384735 Accuracy: 0.8423437476158142\n",
            "Loss: 0.4636472761631012 Accuracy: 0.8324999809265137\n",
            "Loss: 0.47139206528663635 Accuracy: 0.8296874761581421\n",
            "Loss: 0.42572832107543945 Accuracy: 0.8281053900718689\n",
            "Loss: 0.4382883608341217 Accuracy: 0.8716406226158142\n",
            "Loss: 0.5605603456497192 Accuracy: 0.8676562309265137\n",
            "Loss: 0.4501621723175049 Accuracy: 0.8589843511581421\n",
            "Loss: 0.23769456148147583 Accuracy: 0.8711574673652649\n",
            "Loss: 0.33114784955978394 Accuracy: 0.9032031297683716\n",
            "Loss: 0.3298453986644745 Accuracy: 0.8897656202316284\n",
            "Loss: 0.3463050425052643 Accuracy: 0.8881250023841858\n",
            "Loss: 0.16716229915618896 Accuracy: 0.8980551958084106\n",
            "Loss: 0.27601245045661926 Accuracy: 0.9264062643051147\n",
            "Loss: 0.21654155850410461 Accuracy: 0.9120312333106995\n",
            "Loss: 0.20400181412696838 Accuracy: 0.9096875190734863\n",
            "Loss: 0.24001379311084747 Accuracy: 0.9252666234970093\n",
            "Loss: 0.08595672994852066 Accuracy: 0.949999988079071\n",
            "Loss: 0.20876997709274292 Accuracy: 0.935546875\n",
            "Loss: 0.2749711871147156 Accuracy: 0.9266406297683716\n",
            "Loss: 0.14666394889354706 Accuracy: 0.9393820762634277\n",
            "Epoch 1\n",
            "Loss: 0.08938530087471008 Accuracy: 0.9609375\n",
            "Loss: 0.049854081124067307 Accuracy: 0.9693750143051147\n",
            "Loss: 0.08092812448740005 Accuracy: 0.9541406035423279\n",
            "Loss: 0.24859502911567688 Accuracy: 0.9393749833106995\n",
            "Loss: 0.09611760079860687 Accuracy: 0.9432246088981628\n",
            "Loss: 0.10518775880336761 Accuracy: 0.9720312356948853\n",
            "Loss: 0.1311550736427307 Accuracy: 0.9666406512260437\n",
            "Loss: 0.09871481359004974 Accuracy: 0.9642187356948853\n",
            "Loss: 0.1752479076385498 Accuracy: 0.9535759091377258\n",
            "Loss: 0.05026533082127571 Accuracy: 0.9781249761581421\n",
            "Loss: 0.15485945343971252 Accuracy: 0.97265625\n",
            "Loss: 0.1456139087677002 Accuracy: 0.9644531011581421\n",
            "Loss: 0.021808985620737076 Accuracy: 0.9642409086227417\n",
            "Loss: 0.06128480285406113 Accuracy: 0.9832812547683716\n",
            "Loss: 0.04016837477684021 Accuracy: 0.9744531512260437\n",
            "Loss: 0.06689977645874023 Accuracy: 0.9743750095367432\n",
            "Loss: 0.0537884421646595 Accuracy: 0.9644761681556702\n",
            "Loss: 0.054241787642240524 Accuracy: 0.9819531440734863\n",
            "Loss: 0.05430592596530914 Accuracy: 0.9743750095367432\n",
            "Loss: 0.15963861346244812 Accuracy: 0.9760937690734863\n",
            "Loss: 0.08291029930114746 Accuracy: 0.9764742851257324\n"
          ]
        }
      ],
      "source": [
        "epochs = 2\n",
        "for i in range(epochs):\n",
        "  print(\"Epoch {}\".format(i))\n",
        "  for step, (image_batch, label_batch) in enumerate(train_data):\n",
        "      if step > train_steps:\n",
        "          break\n",
        "\n",
        "      with tf.GradientTape() as tape:\n",
        "          logits = model(image_batch)\n",
        "          # loss format is generally: first argument targets, second argument outputs\n",
        "          loss = loss_fn(label_batch, logits)\n",
        "\n",
        "      # if you didn't build the model, it is important that you get the variables\n",
        "      # AFTER the model has been called the first time\n",
        "      variables = model.trainable_variables\n",
        "      gradients = tape.gradient(loss, variables)\n",
        "\n",
        "      optimizer.apply_gradients(zip(gradients, variables))\n",
        "\n",
        "      train_acc_metric(label_batch, logits)\n",
        "\n",
        "      if not step % 100:\n",
        "          # this is different from before. there, we only evaluated accuracy\n",
        "          # for one batch. Now, we always average over 100 batches\n",
        "          print(\"Loss: {} Accuracy: {}\".format(loss, train_acc_metric.result()))\n",
        "          train_acc_metric.reset_states()"
      ]
    },
    {
      "cell_type": "markdown",
      "metadata": {
        "id": "9lR4Q_pDNDBP"
      },
      "source": [
        "## Adjusting Filter size"
      ]
    },
    {
      "cell_type": "code",
      "execution_count": 22,
      "metadata": {
        "colab": {
          "base_uri": "https://localhost:8080/"
        },
        "id": "g-sHXp3sMYQe",
        "outputId": "b868660f-b5a8-462d-bc5c-a435f8c83d7f"
      },
      "outputs": [
        {
          "name": "stdout",
          "output_type": "stream",
          "text": [
            "Model: \"sequential_4\"\n",
            "_________________________________________________________________\n",
            " Layer (type)                Output Shape              Param #   \n",
            "=================================================================\n",
            " conv_1 (Conv2D)             (None, 32, 32, 64)        1792      \n",
            "                                                                 \n",
            " conv_2 (Conv2D)             (None, 32, 32, 128)       73856     \n",
            "                                                                 \n",
            " maxpool_1 (MaxPooling2D)    (None, 16, 16, 128)       0         \n",
            "                                                                 \n",
            " conv_3 (Conv2D)             (None, 16, 16, 128)       147584    \n",
            "                                                                 \n",
            " maxpool_2 (MaxPooling2D)    (None, 8, 8, 128)         0         \n",
            "                                                                 \n",
            " flatten_4 (Flatten)         (None, 8192)              0         \n",
            "                                                                 \n",
            " dense_8 (Dense)             (None, 128)               1048704   \n",
            "                                                                 \n",
            " dense_9 (Dense)             (None, 10)                1290      \n",
            "                                                                 \n",
            "=================================================================\n",
            "Total params: 1273226 (4.86 MB)\n",
            "Trainable params: 1273226 (4.86 MB)\n",
            "Non-trainable params: 0 (0.00 Byte)\n",
            "_________________________________________________________________\n"
          ]
        }
      ],
      "source": [
        "train_steps = 2000\n",
        "\n",
        "model = tf.keras.Sequential([\n",
        "    tf.keras.layers.Conv2D(filters = 64, kernel_size=(3, 3), padding = \"same\", activation=tf.nn.relu, name = \"conv_1\", input_shape = (32, 32, 3)),\n",
        "    tf.keras.layers.Conv2D(filters = 128, kernel_size=(3, 3), padding = \"same\", activation=tf.nn.relu, name = \"conv_2\"),\n",
        "    tf.keras.layers.MaxPool2D(pool_size=(2,2), name=\"maxpool_1\"),\n",
        "    tf.keras.layers.Conv2D(filters = 128, kernel_size=(3, 3), padding = \"same\", activation=tf.nn.relu, name = \"conv_3\"),\n",
        "    tf.keras.layers.MaxPool2D(pool_size=(2,2), name=\"maxpool_2\"),\n",
        "    tf.keras.layers.Flatten(),\n",
        "    tf.keras.layers.Dense(128, activation=tf.nn.relu),\n",
        "    tf.keras.layers.Dense(10)\n",
        "])\n",
        "\n",
        "# Adam makes things much smoother\n",
        "optimizer = tf.optimizers.Adam()\n",
        "# from_logits = True!! #neverforget\n",
        "loss_fn = tf.losses.SparseCategoricalCrossentropy(from_logits=True)\n",
        "\n",
        "model.summary()"
      ]
    },
    {
      "cell_type": "code",
      "execution_count": 23,
      "metadata": {
        "colab": {
          "base_uri": "https://localhost:8080/"
        },
        "id": "3TNkt5yYUxOb",
        "outputId": "3631b6e0-2803-4ff4-aca5-2506594ce2b3"
      },
      "outputs": [
        {
          "name": "stdout",
          "output_type": "stream",
          "text": [
            "Loss: 2.300408363342285 Accuracy: 0.140625\n",
            "Loss: 1.4709084033966064 Accuracy: 0.34281250834465027\n",
            "Loss: 1.3278982639312744 Accuracy: 0.4861718714237213\n",
            "Loss: 1.0937402248382568 Accuracy: 0.5553125143051147\n",
            "Loss: 1.0856468677520752 Accuracy: 0.6079830527305603\n",
            "Loss: 1.1819185018539429 Accuracy: 0.6517968773841858\n",
            "Loss: 0.9781569242477417 Accuracy: 0.6773437261581421\n",
            "Loss: 0.9115937948226929 Accuracy: 0.6922656297683716\n",
            "Loss: 0.8123372197151184 Accuracy: 0.7002038955688477\n",
            "Loss: 0.7441233396530151 Accuracy: 0.729687511920929\n",
            "Loss: 0.7711324691772461 Accuracy: 0.7342968583106995\n",
            "Loss: 0.8546478748321533 Accuracy: 0.7414844036102295\n",
            "Loss: 0.546359121799469 Accuracy: 0.7521957159042358\n",
            "Loss: 0.6250467896461487 Accuracy: 0.770703136920929\n",
            "Loss: 0.599277138710022 Accuracy: 0.7728124856948853\n",
            "Loss: 0.6361522674560547 Accuracy: 0.7852343916893005\n",
            "Loss: 0.4698387682437897 Accuracy: 0.7851317524909973\n",
            "Loss: 0.46752747893333435 Accuracy: 0.8149999976158142\n",
            "Loss: 0.5409901738166809 Accuracy: 0.8071874976158142\n",
            "Loss: 0.5575997233390808 Accuracy: 0.8109375238418579\n",
            "Loss: 0.50568026304245 Accuracy: 0.8277133107185364\n"
          ]
        }
      ],
      "source": [
        "train_acc_metric = tf.keras.metrics.SparseCategoricalAccuracy()\n",
        "\n",
        "for step, (image_batch, label_batch) in enumerate(train_data):\n",
        "    if step > train_steps:\n",
        "        break\n",
        "\n",
        "    with tf.GradientTape() as tape:\n",
        "        logits = model(image_batch)\n",
        "        # loss format is generally: first argument targets, second argument outputs\n",
        "        loss = loss_fn(label_batch, logits)\n",
        "\n",
        "    # if you didn't build the model, it is important that you get the variables\n",
        "    # AFTER the model has been called the first time\n",
        "    variables = model.trainable_variables\n",
        "    gradients = tape.gradient(loss, variables)\n",
        "\n",
        "    optimizer.apply_gradients(zip(gradients, variables))\n",
        "\n",
        "    train_acc_metric(label_batch, logits)\n",
        "\n",
        "    if not step % 100:\n",
        "        # this is different from before. there, we only evaluated accuracy\n",
        "        # for one batch. Now, we always average over 100 batches\n",
        "        print(\"Loss: {} Accuracy: {}\".format(loss, train_acc_metric.result()))\n",
        "        train_acc_metric.reset_states()"
      ]
    },
    {
      "cell_type": "code",
      "execution_count": 24,
      "metadata": {
        "colab": {
          "base_uri": "https://localhost:8080/"
        },
        "id": "H-Zu6aMiU3P5",
        "outputId": "e954622d-f64f-43cc-864d-4f8d9d381e7a"
      },
      "outputs": [
        {
          "name": "stdout",
          "output_type": "stream",
          "text": [
            "Test acc: 0.748199999332428\n"
          ]
        }
      ],
      "source": [
        "test_acc_metric = tf.keras.metrics.SparseCategoricalAccuracy()\n",
        "for image_batch, label_batch in test_data:\n",
        "    test_acc_metric(label_batch, model(image_batch))\n",
        "print(\"Test acc: {}\".format(test_acc_metric.result()))"
      ]
    },
    {
      "cell_type": "markdown",
      "metadata": {
        "id": "_9OLiMLFWwO0"
      },
      "source": [
        "## Changed Kernel size"
      ]
    },
    {
      "cell_type": "code",
      "execution_count": 25,
      "metadata": {
        "colab": {
          "base_uri": "https://localhost:8080/"
        },
        "id": "tYAL1t3IWs54",
        "outputId": "89721bd6-d768-440b-b827-d320ad0e2de0"
      },
      "outputs": [
        {
          "name": "stdout",
          "output_type": "stream",
          "text": [
            "Model: \"sequential_5\"\n",
            "_________________________________________________________________\n",
            " Layer (type)                Output Shape              Param #   \n",
            "=================================================================\n",
            " conv_1 (Conv2D)             (None, 32, 32, 64)        4864      \n",
            "                                                                 \n",
            " conv_2 (Conv2D)             (None, 32, 32, 128)       204928    \n",
            "                                                                 \n",
            " maxpool_1 (MaxPooling2D)    (None, 16, 16, 128)       0         \n",
            "                                                                 \n",
            " conv_3 (Conv2D)             (None, 16, 16, 128)       409728    \n",
            "                                                                 \n",
            " maxpool_2 (MaxPooling2D)    (None, 8, 8, 128)         0         \n",
            "                                                                 \n",
            " flatten_5 (Flatten)         (None, 8192)              0         \n",
            "                                                                 \n",
            " dense_10 (Dense)            (None, 128)               1048704   \n",
            "                                                                 \n",
            " dense_11 (Dense)            (None, 10)                1290      \n",
            "                                                                 \n",
            "=================================================================\n",
            "Total params: 1669514 (6.37 MB)\n",
            "Trainable params: 1669514 (6.37 MB)\n",
            "Non-trainable params: 0 (0.00 Byte)\n",
            "_________________________________________________________________\n"
          ]
        }
      ],
      "source": [
        "train_steps = 2000\n",
        "\n",
        "# Kernel size increased to 5 x 5\n",
        "\n",
        "model = tf.keras.Sequential([\n",
        "    tf.keras.layers.Conv2D(filters = 64, kernel_size=(5, 5), padding = \"same\", activation=tf.nn.relu, name = \"conv_1\", input_shape = (32, 32, 3)),\n",
        "    tf.keras.layers.Conv2D(filters = 128, kernel_size=(5, 5), padding = \"same\", activation=tf.nn.relu, name = \"conv_2\"),\n",
        "    tf.keras.layers.MaxPool2D(pool_size=(2,2), name=\"maxpool_1\"),\n",
        "    tf.keras.layers.Conv2D(filters = 128, kernel_size=(5, 5), padding = \"same\", activation=tf.nn.relu, name = \"conv_3\"),\n",
        "    tf.keras.layers.MaxPool2D(pool_size=(2,2), name=\"maxpool_2\"),\n",
        "    tf.keras.layers.Flatten(),\n",
        "    tf.keras.layers.Dense(128, activation=tf.nn.relu),\n",
        "    tf.keras.layers.Dense(10)\n",
        "])\n",
        "\n",
        "# Adam makes things much smoother\n",
        "optimizer = tf.optimizers.Adam()\n",
        "# from_logits = True!! #neverforget\n",
        "loss_fn = tf.losses.SparseCategoricalCrossentropy(from_logits=True)\n",
        "\n",
        "model.summary()"
      ]
    },
    {
      "cell_type": "code",
      "execution_count": 26,
      "metadata": {
        "colab": {
          "base_uri": "https://localhost:8080/"
        },
        "id": "oHNAuuEhW7C2",
        "outputId": "df4b4576-dddf-4b77-ee57-251965bea4a4"
      },
      "outputs": [
        {
          "name": "stdout",
          "output_type": "stream",
          "text": [
            "Loss: 2.308818817138672 Accuracy: 0.0859375\n",
            "Loss: 1.8100690841674805 Accuracy: 0.29554688930511475\n",
            "Loss: 1.3825974464416504 Accuracy: 0.4495312571525574\n",
            "Loss: 1.3755528926849365 Accuracy: 0.516796886920929\n",
            "Loss: 1.027834177017212 Accuracy: 0.5659504532814026\n",
            "Loss: 1.2016741037368774 Accuracy: 0.6012499928474426\n",
            "Loss: 1.011459231376648 Accuracy: 0.6318749785423279\n",
            "Loss: 0.9258040189743042 Accuracy: 0.6460156440734863\n",
            "Loss: 0.8408719301223755 Accuracy: 0.6685225963592529\n",
            "Loss: 0.8174552321434021 Accuracy: 0.7033593654632568\n",
            "Loss: 0.8387763500213623 Accuracy: 0.7028124928474426\n",
            "Loss: 0.6923415064811707 Accuracy: 0.7178124785423279\n",
            "Loss: 0.5332013368606567 Accuracy: 0.731179416179657\n",
            "Loss: 0.547999918460846 Accuracy: 0.762499988079071\n",
            "Loss: 0.9510667324066162 Accuracy: 0.758984386920929\n",
            "Loss: 0.6264247894287109 Accuracy: 0.7576562762260437\n",
            "Loss: 0.4403444230556488 Accuracy: 0.7814460396766663\n",
            "Loss: 0.5265405178070068 Accuracy: 0.8071093559265137\n",
            "Loss: 0.6505845785140991 Accuracy: 0.8076562285423279\n",
            "Loss: 0.44376108050346375 Accuracy: 0.798828125\n",
            "Loss: 0.3269154727458954 Accuracy: 0.831163763999939\n"
          ]
        }
      ],
      "source": [
        "train_acc_metric = tf.keras.metrics.SparseCategoricalAccuracy()\n",
        "\n",
        "for step, (image_batch, label_batch) in enumerate(train_data):\n",
        "    if step > train_steps:\n",
        "        break\n",
        "\n",
        "    with tf.GradientTape() as tape:\n",
        "        logits = model(image_batch)\n",
        "        # loss format is generally: first argument targets, second argument outputs\n",
        "        loss = loss_fn(label_batch, logits)\n",
        "\n",
        "    # if you didn't build the model, it is important that you get the variables\n",
        "    # AFTER the model has been called the first time\n",
        "    variables = model.trainable_variables\n",
        "    gradients = tape.gradient(loss, variables)\n",
        "\n",
        "    optimizer.apply_gradients(zip(gradients, variables))\n",
        "\n",
        "    train_acc_metric(label_batch, logits)\n",
        "\n",
        "    if not step % 100:\n",
        "        # this is different from before. there, we only evaluated accuracy\n",
        "        # for one batch. Now, we always average over 100 batches\n",
        "        print(\"Loss: {} Accuracy: {}\".format(loss, train_acc_metric.result()))\n",
        "        train_acc_metric.reset_states()"
      ]
    },
    {
      "cell_type": "code",
      "execution_count": 27,
      "metadata": {
        "colab": {
          "base_uri": "https://localhost:8080/"
        },
        "id": "1ciX3-F_W96a",
        "outputId": "83c2b2d0-fe2d-40df-e490-179bd5ad8093"
      },
      "outputs": [
        {
          "name": "stdout",
          "output_type": "stream",
          "text": [
            "Test acc: 0.7354999780654907\n"
          ]
        }
      ],
      "source": [
        "test_acc_metric = tf.keras.metrics.SparseCategoricalAccuracy()\n",
        "for image_batch, label_batch in test_data:\n",
        "    test_acc_metric(label_batch, model(image_batch))\n",
        "print(\"Test acc: {}\".format(test_acc_metric.result()))"
      ]
    },
    {
      "cell_type": "code",
      "execution_count": 28,
      "metadata": {
        "colab": {
          "base_uri": "https://localhost:8080/"
        },
        "id": "hpCU_vQCXCU-",
        "outputId": "fe5ef126-02d4-4f28-e6ec-b2cf2a13e0dc"
      },
      "outputs": [
        {
          "name": "stdout",
          "output_type": "stream",
          "text": [
            "Model: \"sequential_6\"\n",
            "_________________________________________________________________\n",
            " Layer (type)                Output Shape              Param #   \n",
            "=================================================================\n",
            " conv_1 (Conv2D)             (None, 32, 32, 64)        43264     \n",
            "                                                                 \n",
            " conv_2 (Conv2D)             (None, 32, 32, 128)       1843328   \n",
            "                                                                 \n",
            " maxpool_1 (MaxPooling2D)    (None, 16, 16, 128)       0         \n",
            "                                                                 \n",
            " conv_3 (Conv2D)             (None, 16, 16, 128)       3686528   \n",
            "                                                                 \n",
            " maxpool_2 (MaxPooling2D)    (None, 8, 8, 128)         0         \n",
            "                                                                 \n",
            " flatten_6 (Flatten)         (None, 8192)              0         \n",
            "                                                                 \n",
            " dense_12 (Dense)            (None, 128)               1048704   \n",
            "                                                                 \n",
            " dense_13 (Dense)            (None, 10)                1290      \n",
            "                                                                 \n",
            "=================================================================\n",
            "Total params: 6623114 (25.27 MB)\n",
            "Trainable params: 6623114 (25.27 MB)\n",
            "Non-trainable params: 0 (0.00 Byte)\n",
            "_________________________________________________________________\n"
          ]
        }
      ],
      "source": [
        "train_steps = 2000\n",
        "\n",
        "# Kernel size increased to 15 x 15\n",
        "\n",
        "model = tf.keras.Sequential([\n",
        "    tf.keras.layers.Conv2D(filters = 64, kernel_size=(15, 15), padding = \"same\", activation=tf.nn.relu, name = \"conv_1\", input_shape = (32, 32, 3)),\n",
        "    tf.keras.layers.Conv2D(filters = 128, kernel_size=(15, 15), padding = \"same\", activation=tf.nn.relu, name = \"conv_2\"),\n",
        "    tf.keras.layers.MaxPool2D(pool_size=(2,2), name=\"maxpool_1\"),\n",
        "    tf.keras.layers.Conv2D(filters = 128, kernel_size=(15, 15), padding = \"same\", activation=tf.nn.relu, name = \"conv_3\"),\n",
        "    tf.keras.layers.MaxPool2D(pool_size=(2,2), name=\"maxpool_2\"),\n",
        "    tf.keras.layers.Flatten(),\n",
        "    tf.keras.layers.Dense(128, activation=tf.nn.relu),\n",
        "    tf.keras.layers.Dense(10)\n",
        "])\n",
        "\n",
        "# Adam makes things much smoother\n",
        "optimizer = tf.optimizers.Adam()\n",
        "# from_logits = True!! #neverforget\n",
        "loss_fn = tf.losses.SparseCategoricalCrossentropy(from_logits=True)\n",
        "\n",
        "model.summary()"
      ]
    },
    {
      "cell_type": "code",
      "execution_count": 29,
      "metadata": {
        "colab": {
          "base_uri": "https://localhost:8080/"
        },
        "id": "y3A6SLiBXvQZ",
        "outputId": "c891b6b4-474b-4a45-d5de-b43a83f4e1b8"
      },
      "outputs": [
        {
          "name": "stdout",
          "output_type": "stream",
          "text": [
            "Loss: 2.3044495582580566 Accuracy: 0.09375\n",
            "Loss: 2.0173513889312744 Accuracy: 0.18640625476837158\n",
            "Loss: 1.902409553527832 Accuracy: 0.3147656321525574\n",
            "Loss: 1.6341030597686768 Accuracy: 0.3692968785762787\n",
            "Loss: 1.518965721130371 Accuracy: 0.4024466872215271\n",
            "Loss: 1.6444857120513916 Accuracy: 0.42625001072883606\n",
            "Loss: 1.542420506477356 Accuracy: 0.44148436188697815\n",
            "Loss: 1.5198781490325928 Accuracy: 0.4642968773841858\n",
            "Loss: 1.1789462566375732 Accuracy: 0.4933343827724457\n",
            "Loss: 1.3044432401657104 Accuracy: 0.515625\n",
            "Loss: 1.250166654586792 Accuracy: 0.5307812690734863\n",
            "Loss: 1.3082211017608643 Accuracy: 0.520703136920929\n",
            "Loss: 1.172440528869629 Accuracy: 0.5572459101676941\n",
            "Loss: 1.2003642320632935 Accuracy: 0.5871875286102295\n",
            "Loss: 1.009019374847412 Accuracy: 0.5892968773841858\n",
            "Loss: 1.202378273010254 Accuracy: 0.5887500047683716\n",
            "Loss: 1.1026885509490967 Accuracy: 0.6188833117485046\n",
            "Loss: 0.796983540058136 Accuracy: 0.6596875190734863\n",
            "Loss: 0.9579808115959167 Accuracy: 0.6458593606948853\n",
            "Loss: 1.0653945207595825 Accuracy: 0.6332812309265137\n",
            "Loss: 0.6656548380851746 Accuracy: 0.6800501942634583\n"
          ]
        }
      ],
      "source": [
        "train_acc_metric = tf.keras.metrics.SparseCategoricalAccuracy()\n",
        "\n",
        "for step, (image_batch, label_batch) in enumerate(train_data):\n",
        "    if step > train_steps:\n",
        "        break\n",
        "\n",
        "    with tf.GradientTape() as tape:\n",
        "        logits = model(image_batch)\n",
        "        # loss format is generally: first argument targets, second argument outputs\n",
        "        loss = loss_fn(label_batch, logits)\n",
        "\n",
        "    # if you didn't build the model, it is important that you get the variables\n",
        "    # AFTER the model has been called the first time\n",
        "    variables = model.trainable_variables\n",
        "    gradients = tape.gradient(loss, variables)\n",
        "\n",
        "    optimizer.apply_gradients(zip(gradients, variables))\n",
        "\n",
        "    train_acc_metric(label_batch, logits)\n",
        "\n",
        "    if not step % 100:\n",
        "        # this is different from before. there, we only evaluated accuracy\n",
        "        # for one batch. Now, we always average over 100 batches\n",
        "        print(\"Loss: {} Accuracy: {}\".format(loss, train_acc_metric.result()))\n",
        "        train_acc_metric.reset_states()"
      ]
    },
    {
      "cell_type": "code",
      "execution_count": 30,
      "metadata": {
        "colab": {
          "base_uri": "https://localhost:8080/"
        },
        "id": "nTFrE8SkXy0k",
        "outputId": "a6243e79-b081-4e1f-b66a-f5005b0b81f5"
      },
      "outputs": [
        {
          "name": "stdout",
          "output_type": "stream",
          "text": [
            "Test acc: 0.576200008392334\n"
          ]
        }
      ],
      "source": [
        "test_acc_metric = tf.keras.metrics.SparseCategoricalAccuracy()\n",
        "for image_batch, label_batch in test_data:\n",
        "    test_acc_metric(label_batch, model(image_batch))\n",
        "print(\"Test acc: {}\".format(test_acc_metric.result()))"
      ]
    },
    {
      "cell_type": "code",
      "execution_count": 31,
      "metadata": {
        "colab": {
          "base_uri": "https://localhost:8080/"
        },
        "id": "SMSBtUnsX1GL",
        "outputId": "b892cd9d-e1fd-4177-98ae-f28d5ec8a018"
      },
      "outputs": [
        {
          "name": "stdout",
          "output_type": "stream",
          "text": [
            "Model: \"sequential_7\"\n",
            "_________________________________________________________________\n",
            " Layer (type)                Output Shape              Param #   \n",
            "=================================================================\n",
            " conv_1 (Conv2D)             (None, 32, 32, 64)        196672    \n",
            "                                                                 \n",
            " conv_2 (Conv2D)             (None, 32, 32, 128)       8388736   \n",
            "                                                                 \n",
            " maxpool_1 (MaxPooling2D)    (None, 16, 16, 128)       0         \n",
            "                                                                 \n",
            " conv_3 (Conv2D)             (None, 16, 16, 128)       16777344  \n",
            "                                                                 \n",
            " maxpool_2 (MaxPooling2D)    (None, 8, 8, 128)         0         \n",
            "                                                                 \n",
            " flatten_7 (Flatten)         (None, 8192)              0         \n",
            "                                                                 \n",
            " dense_14 (Dense)            (None, 128)               1048704   \n",
            "                                                                 \n",
            " dense_15 (Dense)            (None, 10)                1290      \n",
            "                                                                 \n",
            "=================================================================\n",
            "Total params: 26412746 (100.76 MB)\n",
            "Trainable params: 26412746 (100.76 MB)\n",
            "Non-trainable params: 0 (0.00 Byte)\n",
            "_________________________________________________________________\n"
          ]
        }
      ],
      "source": [
        "train_steps = 2000\n",
        "\n",
        "# Kernel size increased to 32 x 32\n",
        "\n",
        "model = tf.keras.Sequential([\n",
        "    tf.keras.layers.Conv2D(filters = 64, kernel_size=(32, 32), padding = \"same\", activation=tf.nn.relu, name = \"conv_1\", input_shape = (32, 32, 3)),\n",
        "    tf.keras.layers.Conv2D(filters = 128, kernel_size=(32, 32), padding = \"same\", activation=tf.nn.relu, name = \"conv_2\"),\n",
        "    tf.keras.layers.MaxPool2D(pool_size=(2,2), name=\"maxpool_1\"),\n",
        "    tf.keras.layers.Conv2D(filters = 128, kernel_size=(32, 32), padding = \"same\", activation=tf.nn.relu, name = \"conv_3\"),\n",
        "    tf.keras.layers.MaxPool2D(pool_size=(2,2), name=\"maxpool_2\"),\n",
        "    tf.keras.layers.Flatten(),\n",
        "    tf.keras.layers.Dense(128, activation=tf.nn.relu),\n",
        "    tf.keras.layers.Dense(10)\n",
        "])\n",
        "\n",
        "# Adam makes things much smoother\n",
        "optimizer = tf.optimizers.Adam()\n",
        "# from_logits = True!! #neverforget\n",
        "loss_fn = tf.losses.SparseCategoricalCrossentropy(from_logits=True)\n",
        "\n",
        "model.summary()"
      ]
    },
    {
      "cell_type": "code",
      "execution_count": 32,
      "metadata": {
        "colab": {
          "base_uri": "https://localhost:8080/"
        },
        "id": "ioc6xaXhYBMi",
        "outputId": "6d6e5a92-1134-4e81-8057-80aac8230f0c"
      },
      "outputs": [
        {
          "name": "stdout",
          "output_type": "stream",
          "text": [
            "Loss: 2.3053855895996094 Accuracy: 0.0703125\n",
            "Loss: 2.3026351928710938 Accuracy: 0.10257812589406967\n",
            "Loss: 2.3032195568084717 Accuracy: 0.09437499940395355\n",
            "Loss: 2.302743911743164 Accuracy: 0.09656249731779099\n",
            "Loss: 2.3021841049194336 Accuracy: 0.0989648699760437\n",
            "Loss: 2.3013267517089844 Accuracy: 0.10015624761581421\n",
            "Loss: 2.301849365234375 Accuracy: 0.09523437172174454\n",
            "Loss: 2.302509069442749 Accuracy: 0.09656249731779099\n",
            "Loss: 2.302917718887329 Accuracy: 0.09841593354940414\n",
            "Loss: 2.3031044006347656 Accuracy: 0.10398437827825546\n",
            "Loss: 2.3029985427856445 Accuracy: 0.09882812201976776\n",
            "Loss: 2.302980899810791 Accuracy: 0.09648437798023224\n",
            "Loss: 2.3025848865509033 Accuracy: 0.09778857976198196\n",
            "Loss: 2.301708936691284 Accuracy: 0.10437499731779099\n",
            "Loss: 2.3027496337890625 Accuracy: 0.09531249850988388\n",
            "Loss: 2.303593158721924 Accuracy: 0.09734375029802322\n",
            "Loss: 2.30147647857666 Accuracy: 0.10100376605987549\n",
            "Loss: 2.303168296813965 Accuracy: 0.09476562589406967\n",
            "Loss: 2.3026509284973145 Accuracy: 0.10109374672174454\n",
            "Loss: 2.3024799823760986 Accuracy: 0.09734375029802322\n",
            "Loss: 2.30301833152771 Accuracy: 0.09747490286827087\n"
          ]
        }
      ],
      "source": [
        "train_acc_metric = tf.keras.metrics.SparseCategoricalAccuracy()\n",
        "\n",
        "for step, (image_batch, label_batch) in enumerate(train_data):\n",
        "    if step > train_steps:\n",
        "        break\n",
        "\n",
        "    with tf.GradientTape() as tape:\n",
        "        logits = model(image_batch)\n",
        "        # loss format is generally: first argument targets, second argument outputs\n",
        "        loss = loss_fn(label_batch, logits)\n",
        "\n",
        "    # if you didn't build the model, it is important that you get the variables\n",
        "    # AFTER the model has been called the first time\n",
        "    variables = model.trainable_variables\n",
        "    gradients = tape.gradient(loss, variables)\n",
        "\n",
        "    optimizer.apply_gradients(zip(gradients, variables))\n",
        "\n",
        "    train_acc_metric(label_batch, logits)\n",
        "\n",
        "    if not step % 100:\n",
        "        # this is different from before. there, we only evaluated accuracy\n",
        "        # for one batch. Now, we always average over 100 batches\n",
        "        print(\"Loss: {} Accuracy: {}\".format(loss, train_acc_metric.result()))\n",
        "        train_acc_metric.reset_states()"
      ]
    },
    {
      "cell_type": "code",
      "execution_count": 33,
      "metadata": {
        "colab": {
          "base_uri": "https://localhost:8080/"
        },
        "id": "QlzOBNsTYE7-",
        "outputId": "ec4a57cc-1832-4385-a66b-45c8bb511a3f"
      },
      "outputs": [
        {
          "name": "stdout",
          "output_type": "stream",
          "text": [
            "Test acc: 0.10000000149011612\n"
          ]
        }
      ],
      "source": [
        "test_acc_metric = tf.keras.metrics.SparseCategoricalAccuracy()\n",
        "for image_batch, label_batch in test_data:\n",
        "    test_acc_metric(label_batch, model(image_batch))\n",
        "print(\"Test acc: {}\".format(test_acc_metric.result()))"
      ]
    },
    {
      "cell_type": "code",
      "execution_count": 34,
      "metadata": {
        "colab": {
          "base_uri": "https://localhost:8080/"
        },
        "id": "aSeDENp6Ycua",
        "outputId": "fb97ec93-95c6-4b99-f70c-874da42112c3"
      },
      "outputs": [
        {
          "name": "stdout",
          "output_type": "stream",
          "text": [
            "Model: \"sequential_8\"\n",
            "_________________________________________________________________\n",
            " Layer (type)                Output Shape              Param #   \n",
            "=================================================================\n",
            " conv_1 (Conv2D)             (None, 32, 32, 64)        256       \n",
            "                                                                 \n",
            " conv_2 (Conv2D)             (None, 32, 32, 128)       8320      \n",
            "                                                                 \n",
            " maxpool_1 (MaxPooling2D)    (None, 16, 16, 128)       0         \n",
            "                                                                 \n",
            " conv_3 (Conv2D)             (None, 16, 16, 128)       16512     \n",
            "                                                                 \n",
            " maxpool_2 (MaxPooling2D)    (None, 8, 8, 128)         0         \n",
            "                                                                 \n",
            " flatten_8 (Flatten)         (None, 8192)              0         \n",
            "                                                                 \n",
            " dense_16 (Dense)            (None, 128)               1048704   \n",
            "                                                                 \n",
            " dense_17 (Dense)            (None, 10)                1290      \n",
            "                                                                 \n",
            "=================================================================\n",
            "Total params: 1075082 (4.10 MB)\n",
            "Trainable params: 1075082 (4.10 MB)\n",
            "Non-trainable params: 0 (0.00 Byte)\n",
            "_________________________________________________________________\n"
          ]
        }
      ],
      "source": [
        "train_steps = 2000\n",
        "\n",
        "# Kernel size decreased to 1 x 1\n",
        "\n",
        "model = tf.keras.Sequential([\n",
        "    tf.keras.layers.Conv2D(filters = 64, kernel_size=(1, 1), padding = \"same\", activation=tf.nn.relu, name = \"conv_1\", input_shape = (32, 32, 3)),\n",
        "    tf.keras.layers.Conv2D(filters = 128, kernel_size=(1, 1), padding = \"same\", activation=tf.nn.relu, name = \"conv_2\"),\n",
        "    tf.keras.layers.MaxPool2D(pool_size=(2,2), name=\"maxpool_1\"),\n",
        "    tf.keras.layers.Conv2D(filters = 128, kernel_size=(1, 1), padding = \"same\", activation=tf.nn.relu, name = \"conv_3\"),\n",
        "    tf.keras.layers.MaxPool2D(pool_size=(2,2), name=\"maxpool_2\"),\n",
        "    tf.keras.layers.Flatten(),\n",
        "    tf.keras.layers.Dense(128, activation=tf.nn.relu),\n",
        "    tf.keras.layers.Dense(10)\n",
        "])\n",
        "\n",
        "# Adam makes things much smoother\n",
        "optimizer = tf.optimizers.Adam()\n",
        "# from_logits = True!! #neverforget\n",
        "loss_fn = tf.losses.SparseCategoricalCrossentropy(from_logits=True)\n",
        "\n",
        "model.summary()"
      ]
    },
    {
      "cell_type": "code",
      "execution_count": 35,
      "metadata": {
        "colab": {
          "base_uri": "https://localhost:8080/"
        },
        "id": "XtcT8pa0YrLv",
        "outputId": "b6587dab-4310-45b5-f029-5fef7f2ed734"
      },
      "outputs": [
        {
          "name": "stdout",
          "output_type": "stream",
          "text": [
            "Loss: 2.2988948822021484 Accuracy: 0.1484375\n",
            "Loss: 1.54450523853302 Accuracy: 0.3043749928474426\n",
            "Loss: 1.531832218170166 Accuracy: 0.4344531297683716\n",
            "Loss: 1.3503397703170776 Accuracy: 0.4694531261920929\n",
            "Loss: 1.3568260669708252 Accuracy: 0.49631431698799133\n",
            "Loss: 1.3307772874832153 Accuracy: 0.51953125\n",
            "Loss: 1.4292387962341309 Accuracy: 0.5212500095367432\n",
            "Loss: 1.3421077728271484 Accuracy: 0.5385156273841858\n",
            "Loss: 1.2518442869186401 Accuracy: 0.5476003885269165\n",
            "Loss: 1.234795093536377 Accuracy: 0.5531250238418579\n",
            "Loss: 1.2457221746444702 Accuracy: 0.5617969036102295\n",
            "Loss: 1.2800772190093994 Accuracy: 0.5646874904632568\n",
            "Loss: 1.110159158706665 Accuracy: 0.5752038955688477\n",
            "Loss: 1.1757841110229492 Accuracy: 0.586718738079071\n",
            "Loss: 1.342313289642334 Accuracy: 0.5880468487739563\n",
            "Loss: 1.3094704151153564 Accuracy: 0.5899999737739563\n",
            "Loss: 1.1047327518463135 Accuracy: 0.5995922088623047\n",
            "Loss: 1.193807601928711 Accuracy: 0.5971875190734863\n",
            "Loss: 1.2508161067962646 Accuracy: 0.6028906106948853\n",
            "Loss: 1.2662498950958252 Accuracy: 0.6042187213897705\n",
            "Loss: 1.0548348426818848 Accuracy: 0.6223337650299072\n"
          ]
        }
      ],
      "source": [
        "train_acc_metric = tf.keras.metrics.SparseCategoricalAccuracy()\n",
        "\n",
        "for step, (image_batch, label_batch) in enumerate(train_data):\n",
        "    if step > train_steps:\n",
        "        break\n",
        "\n",
        "    with tf.GradientTape() as tape:\n",
        "        logits = model(image_batch)\n",
        "        # loss format is generally: first argument targets, second argument outputs\n",
        "        loss = loss_fn(label_batch, logits)\n",
        "\n",
        "    # if you didn't build the model, it is important that you get the variables\n",
        "    # AFTER the model has been called the first time\n",
        "    variables = model.trainable_variables\n",
        "    gradients = tape.gradient(loss, variables)\n",
        "\n",
        "    optimizer.apply_gradients(zip(gradients, variables))\n",
        "\n",
        "    train_acc_metric(label_batch, logits)\n",
        "\n",
        "    if not step % 100:\n",
        "        # this is different from before. there, we only evaluated accuracy\n",
        "        # for one batch. Now, we always average over 100 batches\n",
        "        print(\"Loss: {} Accuracy: {}\".format(loss, train_acc_metric.result()))\n",
        "        train_acc_metric.reset_states()"
      ]
    },
    {
      "cell_type": "code",
      "execution_count": 36,
      "metadata": {
        "colab": {
          "base_uri": "https://localhost:8080/"
        },
        "id": "GV3kAt5VYtsQ",
        "outputId": "f444696e-8b18-4dba-86e7-7e9f5b57e503"
      },
      "outputs": [
        {
          "name": "stdout",
          "output_type": "stream",
          "text": [
            "Test acc: 0.5916000008583069\n"
          ]
        }
      ],
      "source": [
        "test_acc_metric = tf.keras.metrics.SparseCategoricalAccuracy()\n",
        "for image_batch, label_batch in test_data:\n",
        "    test_acc_metric(label_batch, model(image_batch))\n",
        "print(\"Test acc: {}\".format(test_acc_metric.result()))"
      ]
    },
    {
      "cell_type": "markdown",
      "metadata": {
        "id": "B94Exoh4agMO"
      },
      "source": [
        "An increased size of filter decreased the model performance drastically. A suitable filter size is 3x3."
      ]
    },
    {
      "cell_type": "markdown",
      "metadata": {
        "id": "XcNc0xrfa3Ni"
      },
      "source": [
        "## Added Strides"
      ]
    },
    {
      "cell_type": "code",
      "execution_count": 38,
      "metadata": {
        "colab": {
          "base_uri": "https://localhost:8080/"
        },
        "id": "-tRi0RVXafMK",
        "outputId": "69b8790c-a329-4c53-9159-f0c10707bf34"
      },
      "outputs": [
        {
          "name": "stdout",
          "output_type": "stream",
          "text": [
            "Model: \"sequential_9\"\n",
            "_________________________________________________________________\n",
            " Layer (type)                Output Shape              Param #   \n",
            "=================================================================\n",
            " conv_1 (Conv2D)             (None, 32, 32, 32)        896       \n",
            "                                                                 \n",
            " conv_2 (Conv2D)             (None, 32, 32, 64)        18496     \n",
            "                                                                 \n",
            " maxpool_1 (MaxPooling2D)    (None, 16, 16, 64)        0         \n",
            "                                                                 \n",
            " conv_3 (Conv2D)             (None, 16, 16, 128)       73856     \n",
            "                                                                 \n",
            " maxpool_2 (MaxPooling2D)    (None, 8, 8, 128)         0         \n",
            "                                                                 \n",
            " flatten_9 (Flatten)         (None, 8192)              0         \n",
            "                                                                 \n",
            " dense_18 (Dense)            (None, 128)               1048704   \n",
            "                                                                 \n",
            " dense_19 (Dense)            (None, 10)                1290      \n",
            "                                                                 \n",
            "=================================================================\n",
            "Total params: 1143242 (4.36 MB)\n",
            "Trainable params: 1143242 (4.36 MB)\n",
            "Non-trainable params: 0 (0.00 Byte)\n",
            "_________________________________________________________________\n"
          ]
        }
      ],
      "source": [
        "train_steps = 2000\n",
        "\n",
        "model = tf.keras.Sequential([\n",
        "    tf.keras.layers.Conv2D(filters = 32, kernel_size=(3, 3), strides=(1, 1), padding = \"same\", activation=tf.nn.relu, name = \"conv_1\", input_shape = (32, 32, 3)),\n",
        "    tf.keras.layers.Conv2D(filters = 64, kernel_size=(3, 3), padding = \"same\", activation=tf.nn.relu, name = \"conv_2\"),\n",
        "    tf.keras.layers.MaxPool2D(pool_size=(2,2), name=\"maxpool_1\"),\n",
        "    tf.keras.layers.Conv2D(filters = 128, kernel_size=(3, 3), padding = \"same\", activation=tf.nn.relu, name = \"conv_3\"),\n",
        "    tf.keras.layers.MaxPool2D(pool_size=(2,2), name=\"maxpool_2\"),\n",
        "    tf.keras.layers.Flatten(),\n",
        "    tf.keras.layers.Dense(128, activation=tf.nn.relu),\n",
        "    tf.keras.layers.Dense(10)\n",
        "])\n",
        "\n",
        "# Adam makes things much smoother\n",
        "optimizer = tf.optimizers.Adam()\n",
        "# from_logits = True!! #neverforget\n",
        "loss_fn = tf.losses.SparseCategoricalCrossentropy(from_logits=True)\n",
        "\n",
        "model.summary()"
      ]
    },
    {
      "cell_type": "code",
      "execution_count": 39,
      "metadata": {
        "colab": {
          "base_uri": "https://localhost:8080/"
        },
        "id": "vbdfJsWMbbqX",
        "outputId": "e91072de-a86f-4267-e78b-60f020fe1d17"
      },
      "outputs": [
        {
          "name": "stdout",
          "output_type": "stream",
          "text": [
            "Loss: 2.3138625621795654 Accuracy: 0.09375\n",
            "Loss: 1.59475839138031 Accuracy: 0.31421875953674316\n",
            "Loss: 1.4651634693145752 Accuracy: 0.48265624046325684\n",
            "Loss: 1.1846867799758911 Accuracy: 0.5353124737739563\n",
            "Loss: 1.1254279613494873 Accuracy: 0.5810068845748901\n",
            "Loss: 1.1055731773376465 Accuracy: 0.6310937404632568\n",
            "Loss: 1.0713804960250854 Accuracy: 0.6449218988418579\n",
            "Loss: 0.8871496915817261 Accuracy: 0.6717968583106995\n",
            "Loss: 0.7683706283569336 Accuracy: 0.6821675300598145\n",
            "Loss: 0.7978931069374084 Accuracy: 0.7138281464576721\n",
            "Loss: 0.7752179503440857 Accuracy: 0.7250781059265137\n",
            "Loss: 0.8164147138595581 Accuracy: 0.7196093797683716\n",
            "Loss: 0.7324307560920715 Accuracy: 0.7398839592933655\n",
            "Loss: 0.8155431747436523 Accuracy: 0.762890636920929\n",
            "Loss: 0.6915146112442017 Accuracy: 0.7577343583106995\n",
            "Loss: 0.5460407733917236 Accuracy: 0.7646874785423279\n",
            "Loss: 0.5950846076011658 Accuracy: 0.7774466872215271\n",
            "Loss: 0.4533497095108032 Accuracy: 0.791796863079071\n",
            "Loss: 0.5426782965660095 Accuracy: 0.7971093654632568\n",
            "Loss: 0.5974148511886597 Accuracy: 0.7918750047683716\n",
            "Loss: 0.6252075433731079 Accuracy: 0.8144604563713074\n"
          ]
        }
      ],
      "source": [
        "train_acc_metric = tf.keras.metrics.SparseCategoricalAccuracy()\n",
        "\n",
        "for step, (image_batch, label_batch) in enumerate(train_data):\n",
        "    if step > train_steps:\n",
        "        break\n",
        "\n",
        "    with tf.GradientTape() as tape:\n",
        "        logits = model(image_batch)\n",
        "        # loss format is generally: first argument targets, second argument outputs\n",
        "        loss = loss_fn(label_batch, logits)\n",
        "\n",
        "    # if you didn't build the model, it is important that you get the variables\n",
        "    # AFTER the model has been called the first time\n",
        "    variables = model.trainable_variables\n",
        "    gradients = tape.gradient(loss, variables)\n",
        "\n",
        "    optimizer.apply_gradients(zip(gradients, variables))\n",
        "\n",
        "    train_acc_metric(label_batch, logits)\n",
        "\n",
        "    if not step % 100:\n",
        "        # this is different from before. there, we only evaluated accuracy\n",
        "        # for one batch. Now, we always average over 100 batches\n",
        "        print(\"Loss: {} Accuracy: {}\".format(loss, train_acc_metric.result()))\n",
        "        train_acc_metric.reset_states()"
      ]
    },
    {
      "cell_type": "code",
      "execution_count": 40,
      "metadata": {
        "colab": {
          "base_uri": "https://localhost:8080/"
        },
        "id": "rJBBdP-8bkU7",
        "outputId": "c2774c71-16e3-4724-c16f-bd2de26c315c"
      },
      "outputs": [
        {
          "name": "stdout",
          "output_type": "stream",
          "text": [
            "Test acc: 0.7267000079154968\n"
          ]
        }
      ],
      "source": [
        "test_acc_metric = tf.keras.metrics.SparseCategoricalAccuracy()\n",
        "for image_batch, label_batch in test_data:\n",
        "    test_acc_metric(label_batch, model(image_batch))\n",
        "print(\"Test acc: {}\".format(test_acc_metric.result()))"
      ]
    },
    {
      "cell_type": "markdown",
      "metadata": {
        "id": "_34E0bhsb69G"
      },
      "source": [
        "## Dense Layer"
      ]
    },
    {
      "cell_type": "code",
      "execution_count": 41,
      "metadata": {
        "colab": {
          "base_uri": "https://localhost:8080/"
        },
        "id": "-91EQ9psbnaN",
        "outputId": "b9685153-004e-466b-a807-a084b5b4d197"
      },
      "outputs": [
        {
          "name": "stdout",
          "output_type": "stream",
          "text": [
            "Model: \"sequential_10\"\n",
            "_________________________________________________________________\n",
            " Layer (type)                Output Shape              Param #   \n",
            "=================================================================\n",
            " conv_1 (Conv2D)             (None, 32, 32, 32)        896       \n",
            "                                                                 \n",
            " conv_2 (Conv2D)             (None, 32, 32, 64)        18496     \n",
            "                                                                 \n",
            " maxpool_1 (MaxPooling2D)    (None, 16, 16, 64)        0         \n",
            "                                                                 \n",
            " conv_3 (Conv2D)             (None, 16, 16, 128)       73856     \n",
            "                                                                 \n",
            " maxpool_2 (MaxPooling2D)    (None, 8, 8, 128)         0         \n",
            "                                                                 \n",
            " flatten_10 (Flatten)        (None, 8192)              0         \n",
            "                                                                 \n",
            " dense_20 (Dense)            (None, 512)               4194816   \n",
            "                                                                 \n",
            " dense_21 (Dense)            (None, 10)                5130      \n",
            "                                                                 \n",
            "=================================================================\n",
            "Total params: 4293194 (16.38 MB)\n",
            "Trainable params: 4293194 (16.38 MB)\n",
            "Non-trainable params: 0 (0.00 Byte)\n",
            "_________________________________________________________________\n"
          ]
        }
      ],
      "source": [
        "train_steps = 2000\n",
        "\n",
        "model = tf.keras.Sequential([\n",
        "    tf.keras.layers.Conv2D(filters = 32, kernel_size=(3, 3), padding = \"same\", activation=tf.nn.relu, name = \"conv_1\", input_shape = (32, 32, 3)),\n",
        "    tf.keras.layers.Conv2D(filters = 64, kernel_size=(3, 3), padding = \"same\", activation=tf.nn.relu, name = \"conv_2\"),\n",
        "    tf.keras.layers.MaxPool2D(pool_size=(2,2), name=\"maxpool_1\"),\n",
        "    tf.keras.layers.Conv2D(filters = 128, kernel_size=(3, 3), padding = \"same\", activation=tf.nn.relu, name = \"conv_3\"),\n",
        "    tf.keras.layers.MaxPool2D(pool_size=(2,2), name=\"maxpool_2\"),\n",
        "    tf.keras.layers.Flatten(),\n",
        "    tf.keras.layers.Dense(512, activation=tf.nn.relu),\n",
        "    tf.keras.layers.Dense(10)\n",
        "])\n",
        "\n",
        "# Adam makes things much smoother\n",
        "optimizer = tf.optimizers.Adam()\n",
        "# from_logits = True!! #neverforget\n",
        "loss_fn = tf.losses.SparseCategoricalCrossentropy(from_logits=True)\n",
        "\n",
        "model.summary()"
      ]
    },
    {
      "cell_type": "code",
      "execution_count": 42,
      "metadata": {
        "colab": {
          "base_uri": "https://localhost:8080/"
        },
        "id": "rmRgZNwRcCPH",
        "outputId": "c200bb56-54eb-4732-a046-dabe8b529389"
      },
      "outputs": [
        {
          "name": "stdout",
          "output_type": "stream",
          "text": [
            "Loss: 2.2944798469543457 Accuracy: 0.0703125\n",
            "Loss: 1.5933644771575928 Accuracy: 0.3631249964237213\n",
            "Loss: 1.408695101737976 Accuracy: 0.5036718845367432\n",
            "Loss: 1.0107203722000122 Accuracy: 0.5653906464576721\n",
            "Loss: 0.8589238524436951 Accuracy: 0.6300972104072571\n",
            "Loss: 0.8569069504737854 Accuracy: 0.662890613079071\n",
            "Loss: 0.9179462194442749 Accuracy: 0.690234363079071\n",
            "Loss: 0.8597216606140137 Accuracy: 0.6974999904632568\n",
            "Loss: 0.7293848991394043 Accuracy: 0.7252979874610901\n",
            "Loss: 0.7211766242980957 Accuracy: 0.7602343559265137\n",
            "Loss: 0.710953414440155 Accuracy: 0.7637500166893005\n",
            "Loss: 0.8530497550964355 Accuracy: 0.7657031416893005\n",
            "Loss: 0.5289110541343689 Accuracy: 0.7823870778083801\n",
            "Loss: 0.5081179141998291 Accuracy: 0.8171093463897705\n",
            "Loss: 0.4137893319129944 Accuracy: 0.8185937404632568\n",
            "Loss: 0.48029178380966187 Accuracy: 0.8204687237739563\n",
            "Loss: 0.27291467785835266 Accuracy: 0.840417206287384\n",
            "Loss: 0.3786478638648987 Accuracy: 0.8726562261581421\n",
            "Loss: 0.4418076276779175 Accuracy: 0.8704687356948853\n",
            "Loss: 0.21520978212356567 Accuracy: 0.8662499785423279\n",
            "Loss: 0.16262365877628326 Accuracy: 0.8948400020599365\n"
          ]
        }
      ],
      "source": [
        "train_acc_metric = tf.keras.metrics.SparseCategoricalAccuracy()\n",
        "\n",
        "for step, (image_batch, label_batch) in enumerate(train_data):\n",
        "    if step > train_steps:\n",
        "        break\n",
        "\n",
        "    with tf.GradientTape() as tape:\n",
        "        logits = model(image_batch)\n",
        "        # loss format is generally: first argument targets, second argument outputs\n",
        "        loss = loss_fn(label_batch, logits)\n",
        "\n",
        "    # if you didn't build the model, it is important that you get the variables\n",
        "    # AFTER the model has been called the first time\n",
        "    variables = model.trainable_variables\n",
        "    gradients = tape.gradient(loss, variables)\n",
        "\n",
        "    optimizer.apply_gradients(zip(gradients, variables))\n",
        "\n",
        "    train_acc_metric(label_batch, logits)\n",
        "\n",
        "    if not step % 100:\n",
        "        # this is different from before. there, we only evaluated accuracy\n",
        "        # for one batch. Now, we always average over 100 batches\n",
        "        print(\"Loss: {} Accuracy: {}\".format(loss, train_acc_metric.result()))\n",
        "        train_acc_metric.reset_states()"
      ]
    },
    {
      "cell_type": "code",
      "execution_count": 43,
      "metadata": {
        "colab": {
          "base_uri": "https://localhost:8080/"
        },
        "id": "bExeVrR-cEaE",
        "outputId": "355bb273-1261-4520-9ddc-5d8ee2a9a8a4"
      },
      "outputs": [
        {
          "name": "stdout",
          "output_type": "stream",
          "text": [
            "Test acc: 0.7577000260353088\n"
          ]
        }
      ],
      "source": [
        "test_acc_metric = tf.keras.metrics.SparseCategoricalAccuracy()\n",
        "for image_batch, label_batch in test_data:\n",
        "    test_acc_metric(label_batch, model(image_batch))\n",
        "print(\"Test acc: {}\".format(test_acc_metric.result()))"
      ]
    },
    {
      "cell_type": "markdown",
      "metadata": {
        "id": "SRUTRwmgcdyf"
      },
      "source": [
        "## Removed Pooling and Added Strides"
      ]
    },
    {
      "cell_type": "code",
      "execution_count": 44,
      "metadata": {
        "colab": {
          "base_uri": "https://localhost:8080/"
        },
        "id": "wWdYdCiAcGoW",
        "outputId": "b1863a40-7981-4aa9-d64e-259e1497702d"
      },
      "outputs": [
        {
          "name": "stdout",
          "output_type": "stream",
          "text": [
            "Model: \"sequential_11\"\n",
            "_________________________________________________________________\n",
            " Layer (type)                Output Shape              Param #   \n",
            "=================================================================\n",
            " conv_1 (Conv2D)             (None, 32, 32, 32)        896       \n",
            "                                                                 \n",
            " conv_2 (Conv2D)             (None, 32, 32, 64)        18496     \n",
            "                                                                 \n",
            " conv_3 (Conv2D)             (None, 32, 32, 128)       73856     \n",
            "                                                                 \n",
            " maxpool_2 (MaxPooling2D)    (None, 16, 16, 128)       0         \n",
            "                                                                 \n",
            " flatten_11 (Flatten)        (None, 32768)             0         \n",
            "                                                                 \n",
            " dense_22 (Dense)            (None, 512)               16777728  \n",
            "                                                                 \n",
            " dense_23 (Dense)            (None, 10)                5130      \n",
            "                                                                 \n",
            "=================================================================\n",
            "Total params: 16876106 (64.38 MB)\n",
            "Trainable params: 16876106 (64.38 MB)\n",
            "Non-trainable params: 0 (0.00 Byte)\n",
            "_________________________________________________________________\n"
          ]
        }
      ],
      "source": [
        "train_steps = 2000\n",
        "\n",
        "model = tf.keras.Sequential([\n",
        "    tf.keras.layers.Conv2D(filters = 32, kernel_size=(3, 3), strides=(1,1), padding = \"same\", activation=tf.nn.relu, name = \"conv_1\", input_shape = (32, 32, 3)),\n",
        "    tf.keras.layers.Conv2D(filters = 64, kernel_size=(3, 3), padding = \"same\", activation=tf.nn.relu, name = \"conv_2\"),\n",
        "    #tf.keras.layers.MaxPool2D(pool_size=(2,2), name=\"maxpool_1\"),\n",
        "    tf.keras.layers.Conv2D(filters = 128, kernel_size=(3, 3), padding = \"same\", activation=tf.nn.relu, name = \"conv_3\"),\n",
        "    tf.keras.layers.MaxPool2D(pool_size=(2,2), name=\"maxpool_2\"),\n",
        "    tf.keras.layers.Flatten(),\n",
        "    tf.keras.layers.Dense(512, activation=tf.nn.relu),\n",
        "    tf.keras.layers.Dense(10)\n",
        "])\n",
        "\n",
        "# Adam makes things much smoother\n",
        "optimizer = tf.optimizers.Adam()\n",
        "# from_logits = True!! #neverforget\n",
        "loss_fn = tf.losses.SparseCategoricalCrossentropy(from_logits=True)\n",
        "\n",
        "model.summary()"
      ]
    },
    {
      "cell_type": "code",
      "execution_count": 45,
      "metadata": {
        "colab": {
          "base_uri": "https://localhost:8080/"
        },
        "id": "PznThVGSclzj",
        "outputId": "aa9c87a9-bc49-4027-a2c9-32ea392c9b07"
      },
      "outputs": [
        {
          "name": "stdout",
          "output_type": "stream",
          "text": [
            "Loss: 2.307494640350342 Accuracy: 0.109375\n",
            "Loss: 1.5342551469802856 Accuracy: 0.3225781321525574\n",
            "Loss: 1.493888258934021 Accuracy: 0.48656249046325684\n",
            "Loss: 1.1235499382019043 Accuracy: 0.5497656464576721\n",
            "Loss: 1.137096881866455 Accuracy: 0.600768506526947\n",
            "Loss: 1.0631974935531616 Accuracy: 0.6458593606948853\n",
            "Loss: 1.0236141681671143 Accuracy: 0.664843738079071\n",
            "Loss: 0.9227858781814575 Accuracy: 0.6794531345367432\n",
            "Loss: 0.6578063368797302 Accuracy: 0.6950282454490662\n",
            "Loss: 0.8093193173408508 Accuracy: 0.7425000071525574\n",
            "Loss: 0.611315131187439 Accuracy: 0.756640613079071\n",
            "Loss: 0.8680576086044312 Accuracy: 0.7477343678474426\n",
            "Loss: 0.7193264365196228 Accuracy: 0.7698400020599365\n",
            "Loss: 0.419905424118042 Accuracy: 0.8267187476158142\n",
            "Loss: 0.5584357380867004 Accuracy: 0.8220312595367432\n",
            "Loss: 0.5885868668556213 Accuracy: 0.8194531202316284\n",
            "Loss: 0.21550250053405762 Accuracy: 0.8525721430778503\n",
            "Loss: 0.2282962054014206 Accuracy: 0.9095312356948853\n",
            "Loss: 0.4027976393699646 Accuracy: 0.8951562643051147\n",
            "Loss: 0.3272061347961426 Accuracy: 0.8896874785423279\n",
            "Loss: 0.12384213507175446 Accuracy: 0.9183657169342041\n"
          ]
        }
      ],
      "source": [
        "train_acc_metric = tf.keras.metrics.SparseCategoricalAccuracy()\n",
        "\n",
        "for step, (image_batch, label_batch) in enumerate(train_data):\n",
        "    if step > train_steps:\n",
        "        break\n",
        "\n",
        "    with tf.GradientTape() as tape:\n",
        "        logits = model(image_batch)\n",
        "        # loss format is generally: first argument targets, second argument outputs\n",
        "        loss = loss_fn(label_batch, logits)\n",
        "\n",
        "    # if you didn't build the model, it is important that you get the variables\n",
        "    # AFTER the model has been called the first time\n",
        "    variables = model.trainable_variables\n",
        "    gradients = tape.gradient(loss, variables)\n",
        "\n",
        "    optimizer.apply_gradients(zip(gradients, variables))\n",
        "\n",
        "    train_acc_metric(label_batch, logits)\n",
        "\n",
        "    if not step % 100:\n",
        "        # this is different from before. there, we only evaluated accuracy\n",
        "        # for one batch. Now, we always average over 100 batches\n",
        "        print(\"Loss: {} Accuracy: {}\".format(loss, train_acc_metric.result()))\n",
        "        train_acc_metric.reset_states()"
      ]
    },
    {
      "cell_type": "code",
      "execution_count": 46,
      "metadata": {
        "colab": {
          "base_uri": "https://localhost:8080/"
        },
        "id": "Afyp2kdAcoA8",
        "outputId": "649ae3cb-3f26-4180-e9e6-b2beb4a584c1"
      },
      "outputs": [
        {
          "name": "stdout",
          "output_type": "stream",
          "text": [
            "Test acc: 0.7077000141143799\n"
          ]
        }
      ],
      "source": [
        "test_acc_metric = tf.keras.metrics.SparseCategoricalAccuracy()\n",
        "for image_batch, label_batch in test_data:\n",
        "    test_acc_metric(label_batch, model(image_batch))\n",
        "print(\"Test acc: {}\".format(test_acc_metric.result()))"
      ]
    },
    {
      "cell_type": "code",
      "execution_count": null,
      "metadata": {
        "id": "eGcZH4dCcsGC"
      },
      "outputs": [],
      "source": []
    }
  ],
  "metadata": {
    "accelerator": "GPU",
    "colab": {
      "collapsed_sections": [
        "YKiyaq3PLxR_",
        "9lR4Q_pDNDBP",
        "_9OLiMLFWwO0"
      ],
      "gpuType": "T4",
      "provenance": []
    },
    "kernelspec": {
      "display_name": "Python 3",
      "name": "python3"
    },
    "language_info": {
      "name": "python"
    }
  },
  "nbformat": 4,
  "nbformat_minor": 0
}
